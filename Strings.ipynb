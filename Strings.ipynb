{
 "cells": [
  {
   "cell_type": "code",
   "execution_count": 1,
   "metadata": {},
   "outputs": [
    {
     "name": "stdout",
     "output_type": "stream",
     "text": [
      "Requirement already satisfied: pixiedust in /home/sheff/anaconda3/lib/python3.7/site-packages (1.1.18)\n",
      "Requirement already satisfied: mpld3 in /home/sheff/anaconda3/lib/python3.7/site-packages (from pixiedust) (0.3)\n",
      "Requirement already satisfied: geojson in /home/sheff/anaconda3/lib/python3.7/site-packages (from pixiedust) (2.5.0)\n",
      "Requirement already satisfied: requests in /home/sheff/anaconda3/lib/python3.7/site-packages (from pixiedust) (2.22.0)\n",
      "Requirement already satisfied: colour in /home/sheff/anaconda3/lib/python3.7/site-packages (from pixiedust) (0.1.5)\n",
      "Requirement already satisfied: lxml in /home/sheff/anaconda3/lib/python3.7/site-packages (from pixiedust) (4.5.0)\n",
      "Requirement already satisfied: markdown in /home/sheff/anaconda3/lib/python3.7/site-packages (from pixiedust) (3.2.1)\n",
      "Requirement already satisfied: astunparse in /home/sheff/anaconda3/lib/python3.7/site-packages (from pixiedust) (1.6.3)\n",
      "Requirement already satisfied: idna<2.9,>=2.5 in /home/sheff/anaconda3/lib/python3.7/site-packages (from requests->pixiedust) (2.8)\n",
      "Requirement already satisfied: chardet<3.1.0,>=3.0.2 in /home/sheff/anaconda3/lib/python3.7/site-packages (from requests->pixiedust) (3.0.4)\n",
      "Requirement already satisfied: certifi>=2017.4.17 in /home/sheff/anaconda3/lib/python3.7/site-packages (from requests->pixiedust) (2019.11.28)\n",
      "Requirement already satisfied: urllib3!=1.25.0,!=1.25.1,<1.26,>=1.21.1 in /home/sheff/anaconda3/lib/python3.7/site-packages (from requests->pixiedust) (1.25.8)\n",
      "Requirement already satisfied: setuptools>=36 in /home/sheff/anaconda3/lib/python3.7/site-packages (from markdown->pixiedust) (45.2.0.post20200210)\n",
      "Requirement already satisfied: six<2.0,>=1.6.1 in /home/sheff/anaconda3/lib/python3.7/site-packages (from astunparse->pixiedust) (1.14.0)\n",
      "Requirement already satisfied: wheel<1.0,>=0.23.0 in /home/sheff/anaconda3/lib/python3.7/site-packages (from astunparse->pixiedust) (0.34.2)\n"
     ]
    }
   ],
   "source": [
    "!pip install pixiedust"
   ]
  },
  {
   "cell_type": "code",
   "execution_count": 2,
   "metadata": {},
   "outputs": [
    {
     "name": "stdout",
     "output_type": "stream",
     "text": [
      "Pixiedust database opened successfully\n"
     ]
    },
    {
     "data": {
      "text/html": [
       "\n",
       "        <div style=\"margin:10px\">\n",
       "            <a href=\"https://github.com/ibm-watson-data-lab/pixiedust\" target=\"_new\">\n",
       "                <img src=\"https://github.com/ibm-watson-data-lab/pixiedust/raw/master/docs/_static/pd_icon32.png\" style=\"float:left;margin-right:10px\"/>\n",
       "            </a>\n",
       "            <span>Pixiedust version 1.1.18</span>\n",
       "        </div>\n",
       "        "
      ],
      "text/plain": [
       "<IPython.core.display.HTML object>"
      ]
     },
     "metadata": {},
     "output_type": "display_data"
    }
   ],
   "source": [
    "import pixiedust"
   ]
  },
  {
   "cell_type": "markdown",
   "metadata": {},
   "source": [
    "## Префикс-функция. Алгоритм Кнута-Морриса-Пратта"
   ]
  },
  {
   "cell_type": "code",
   "execution_count": 18,
   "metadata": {
    "pixiedust": {
     "displayParams": {}
    }
   },
   "outputs": [
    {
     "name": "stdout",
     "output_type": "stream",
     "text": [
      "[0, 1, 0, 1, 2, 2, 3]\n",
      "[0, 1, 2, 3, 4, 5, 6]\n"
     ]
    }
   ],
   "source": [
    "# %%pixie_debugger\n",
    "def prefix_function_trivial(s):\n",
    "    n = len(s)\n",
    "    pi = [0]*n\n",
    "    for i in range(n):\n",
    "        for k in range(0, i+1):\n",
    "            if s[0:k] == s[i-k+1:(i-k+1)+k]:\n",
    "                pi[i] = k\n",
    "    return pi\n",
    "\n",
    "print(prefix_function_trivial(\"aabaaab\"))\n",
    "print(prefix_function_trivial(\"aaaaaaa\"))\n",
    "\n"
   ]
  },
  {
   "cell_type": "markdown",
   "metadata": {},
   "source": [
    "# Palindroms  [palindromes](https://e-maxx.ru/algo/palindromes_count)"
   ]
  },
  {
   "cell_type": "markdown",
   "metadata": {},
   "source": [
    "## Алгоритм Манакера"
   ]
  },
  {
   "cell_type": "code",
   "execution_count": null,
   "metadata": {},
   "outputs": [],
   "source": [
    "def manaker_palindrom_find(s):\n",
    "    l = 0, r = -1\n",
    "    n = len(s)\n",
    "    for i in range(n):\n",
    "        k = 0\n",
    "        if i > r:\n",
    "            k = 1\n",
    "        else:\n",
    "            k = min(d1[l+r-i], r-i+1)\n",
    "            while((i+k < n) and (i-k >= 0) and s[i+k] == s[i-k]):\n",
    "                k += 1\n",
    "        "
   ]
  },
  {
   "cell_type": "markdown",
   "metadata": {},
   "source": [
    "## Z-function\n",
    "[Z-function](http://e-maxx.ru/algo/z_function)"
   ]
  },
  {
   "cell_type": "code",
   "execution_count": null,
   "metadata": {},
   "outputs": [],
   "source": []
  }
 ],
 "metadata": {
  "kernelspec": {
   "display_name": "Python 3",
   "language": "python",
   "name": "python3"
  },
  "language_info": {
   "codemirror_mode": {
    "name": "ipython",
    "version": 3
   },
   "file_extension": ".py",
   "mimetype": "text/x-python",
   "name": "python",
   "nbconvert_exporter": "python",
   "pygments_lexer": "ipython3",
   "version": "3.7.6"
  }
 },
 "nbformat": 4,
 "nbformat_minor": 4
}
