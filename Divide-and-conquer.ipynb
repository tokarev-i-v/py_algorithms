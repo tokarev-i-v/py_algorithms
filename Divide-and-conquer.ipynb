{
 "cells": [
  {
   "cell_type": "code",
   "execution_count": 24,
   "metadata": {},
   "outputs": [
    {
     "name": "stdout",
     "output_type": "stream",
     "text": [
      "[6, 9, 49, 17, 51, 77, 21, 99, 40, 35, 8, 3, 78, 69, 28, 27, 1, 23, 19, 80, 74, 67, 44, 11, 90, 64, 85, 21, 55, 42, 82, 50, 74, 70, 55, 7, 52, 36, 51, 7, 55, 59, 71, 89, 1, 29, 0, 2, 93, 73, 31, 73, 61, 100, 14, 55, 32, 80, 71, 32, 58, 71, 70, 73, 41, 49, 81, 40, 69, 33, 59, 56, 40, 41, 34, 58, 30, 52, 50, 38, 19, 16, 8, 14, 39, 86, 77, 0, 73, 4, 45, 1, 20, 51, 99, 7, 34, 18, 6, 91]\n",
      "50\n",
      "[0, 0, 1, 1, 1, 2, 3, 4, 6, 6, 7, 7, 7, 8, 8, 9, 11, 14, 14, 16, 17, 18, 19, 19, 20, 21, 21, 23, 27, 28, 29, 30, 31, 32, 32, 33, 34, 34, 35, 36, 38, 39, 40, 40, 40, 41, 41, 42, 44, 45, 49, 49, 50, 50, 51, 51, 51, 52, 52, 55, 55, 55, 55, 56, 58, 58, 59, 59, 61, 64, 67, 69, 69, 70, 70, 71, 71, 71, 73, 73, 73, 73, 74, 74, 77, 77, 78, 80, 80, 81, 82, 85, 86, 89, 90, 91, 93, 99, 99, 100]\n"
     ]
    },
    {
     "data": {
      "text/plain": [
       "45"
      ]
     },
     "execution_count": 24,
     "metadata": {},
     "output_type": "execute_result"
    }
   ],
   "source": [
    "import random\n",
    "import string\n",
    "def find_kth_element(a, k):\n",
    "    v = a[random.randint(0, len(a)-1)]\n",
    "    s_l = []\n",
    "    s_v = []\n",
    "    s_r = []\n",
    "    for el in a:\n",
    "        if el < v:\n",
    "            s_l.append(el)\n",
    "        elif el > v:\n",
    "            s_r.append(el)\n",
    "        else:\n",
    "            s_v.append(el)\n",
    "            \n",
    "    if k <= len(s_l):\n",
    "        return find_kth_element(s_l, k)\n",
    "    elif k > len(s_l) +  len(s_v):\n",
    "        return find_kth_element(s_r, k - len(s_l) - len(s_v))\n",
    "    else:\n",
    "        return v\n",
    "\n",
    "a = [random.randint(0,100) for i in range(100)]\n",
    "k = len(a)//2\n",
    "print(a)\n",
    "print(k)\n",
    "a.sort()\n",
    "print(a)\n",
    "find_kth_element(a, k)"
   ]
  },
  {
   "cell_type": "code",
   "execution_count": null,
   "metadata": {},
   "outputs": [],
   "source": []
  }
 ],
 "metadata": {
  "kernelspec": {
   "display_name": "Python 3",
   "language": "python",
   "name": "python3"
  },
  "language_info": {
   "codemirror_mode": {
    "name": "ipython",
    "version": 3
   },
   "file_extension": ".py",
   "mimetype": "text/x-python",
   "name": "python",
   "nbconvert_exporter": "python",
   "pygments_lexer": "ipython3",
   "version": "3.7.6"
  }
 },
 "nbformat": 4,
 "nbformat_minor": 4
}
