{
 "cells": [
  {
   "cell_type": "code",
   "execution_count": 1,
   "metadata": {},
   "outputs": [],
   "source": [
    "import numpy as np"
   ]
  },
  {
   "cell_type": "code",
   "execution_count": 2,
   "metadata": {},
   "outputs": [],
   "source": [
    " def FFT_vectorized(x):\n",
    "    \"\"\"A vectorized, non-recursive version of the Cooley-Tukey FFT\"\"\"\n",
    "    x = np.asarray(x, dtype=float)\n",
    "    N = x.shape[0]\n",
    "\n",
    "    if np.log2(N) % 1 > 0:\n",
    "        raise ValueError(\"size of x must be a power of 2\")\n",
    "\n",
    "    N_min = min(N, 32)\n",
    "    \n",
    "    n = np.arange(N_min)\n",
    "    k = n[:, None]\n",
    "    M = np.exp(-2j * np.pi * n * k / N_min)\n",
    "    X = np.dot(M, x.reshape((N_min, -1)))\n",
    "\n",
    "    while X.shape[0] < N:\n",
    "        X_even = X[:, :int(X.shape[1] / 2)]\n",
    "        X_odd = X[:, int(X.shape[1] / 2):]\n",
    "        factor = np.exp(-1j * np.pi * np.arange(X.shape[0])\n",
    "                        / X.shape[0])[:, None]\n",
    "        X = np.vstack([X_even + factor * X_odd,\n",
    "                       X_even - factor * X_odd])\n",
    "\n",
    "    return X.ravel()"
   ]
  },
  {
   "cell_type": "code",
   "execution_count": 3,
   "metadata": {},
   "outputs": [
    {
     "data": {
      "text/plain": [
       "True"
      ]
     },
     "execution_count": 3,
     "metadata": {},
     "output_type": "execute_result"
    }
   ],
   "source": [
    "x = np.random.random(1024)\n",
    "np.allclose(FFT_vectorized(x), np.fft.fft(x))"
   ]
  },
  {
   "cell_type": "code",
   "execution_count": null,
   "metadata": {},
   "outputs": [],
   "source": []
  },
  {
   "cell_type": "code",
   "execution_count": null,
   "metadata": {},
   "outputs": [],
   "source": []
  },
  {
   "cell_type": "code",
   "execution_count": null,
   "metadata": {},
   "outputs": [],
   "source": []
  },
  {
   "cell_type": "code",
   "execution_count": null,
   "metadata": {},
   "outputs": [],
   "source": []
  },
  {
   "cell_type": "code",
   "execution_count": null,
   "metadata": {},
   "outputs": [],
   "source": []
  },
  {
   "cell_type": "code",
   "execution_count": 4,
   "metadata": {},
   "outputs": [
    {
     "name": "stdout",
     "output_type": "stream",
     "text": [
      "[8.18992416e+03 +0.j         3.28901562e+01+43.32092754j\n",
      " 2.10851152e+01 +0.56948604j ... 5.08912885e+00-60.10419642j\n",
      " 2.10851152e+01 -0.56948604j 3.28901562e+01-43.32092754j]\n"
     ]
    }
   ],
   "source": [
    "x = np.random.random(1024 * 16)\n",
    "#%timeit FFT(x)\n",
    "# %timeit DFT_slow(x)\n",
    "# %timeit FFT_vectorized(x)\n",
    "# %timeit np.fft.fft(x)\n",
    "print(FFT_vectorized(x))"
   ]
  },
  {
   "cell_type": "code",
   "execution_count": 21,
   "metadata": {},
   "outputs": [
    {
     "name": "stdout",
     "output_type": "stream",
     "text": [
      "[0.65255196 0.44875982 0.58329417 ... 0.17115435 0.1271322  0.50889064]\n",
      "257 ms ± 7.83 ms per loop (mean ± std. dev. of 7 runs, 1 loop each)\n",
      "247 ms ± 1.9 ms per loop (mean ± std. dev. of 7 runs, 1 loop each)\n"
     ]
    },
    {
     "data": {
      "text/plain": [
       "True"
      ]
     },
     "execution_count": 21,
     "metadata": {},
     "output_type": "execute_result"
    }
   ],
   "source": [
    "def my_FFT_vectorized(x):\n",
    "    x = np.asarray(x, dtype=float)\n",
    "    N = x.shape[0]\n",
    "    N_min = min(N, 32)\n",
    "    if np.log2(N) %1 != 0:\n",
    "        raise ValueError(\"size of x must be a power of 2\")\n",
    "    n = np.arange(N_min)\n",
    "    k = n[:, None]\n",
    "    \n",
    "    M = np.exp(-2j * np.pi * n * k / N_min)\n",
    "    X = np.dot(M, x.reshape(N_min, -1))\n",
    "    \n",
    "    while X.shape[0] < N:\n",
    "        X_even = X[:, :int(X.shape[1]/2)]\n",
    "        X_odd = X[:, int(X.shape[1]/2):]\n",
    "        factor = np.exp(-1j * np.pi * np.arange(X.shape[0])/X.shape[0])[:, None]\n",
    "        X = np.vstack([X_even + factor*X_odd, X_even - factor*X_odd])\n",
    "    return X.ravel()\n",
    "x = np.random.random(1024*512)\n",
    "print(x)\n",
    "%timeit my_FFT_vectorized(x)\n",
    "%timeit FFT_vectorized(x)\n",
    "np.allclose(my_FFT_vectorized(x), np.fft.fft(x))"
   ]
  },
  {
   "cell_type": "code",
   "execution_count": 10,
   "metadata": {},
   "outputs": [
    {
     "data": {
      "text/plain": [
       "array([[0, 0, 0, 0],\n",
       "       [0, 1, 2, 3],\n",
       "       [0, 2, 4, 6],\n",
       "       [0, 3, 6, 9]])"
      ]
     },
     "execution_count": 10,
     "metadata": {},
     "output_type": "execute_result"
    }
   ],
   "source": [
    "p = np.arange(4)\n",
    "q = p[:, None]\n",
    "l = p*q\n",
    "l"
   ]
  },
  {
   "cell_type": "code",
   "execution_count": null,
   "metadata": {},
   "outputs": [],
   "source": []
  }
 ],
 "metadata": {
  "kernelspec": {
   "display_name": "Python 3",
   "language": "python",
   "name": "python3"
  },
  "language_info": {
   "codemirror_mode": {
    "name": "ipython",
    "version": 3
   },
   "file_extension": ".py",
   "mimetype": "text/x-python",
   "name": "python",
   "nbconvert_exporter": "python",
   "pygments_lexer": "ipython3",
   "version": "3.7.6"
  }
 },
 "nbformat": 4,
 "nbformat_minor": 2
}
