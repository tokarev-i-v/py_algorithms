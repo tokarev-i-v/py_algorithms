{
 "cells": [
  {
   "cell_type": "markdown",
   "metadata": {},
   "source": [
    "# Sorting algorithms\n",
    "\n",
    "1. mergesort\n",
    "2. quick sort"
   ]
  },
  {
   "cell_type": "markdown",
   "metadata": {},
   "source": [
    "## Mergesort\n"
   ]
  },
  {
   "cell_type": "code",
   "execution_count": 1,
   "metadata": {},
   "outputs": [],
   "source": [
    "import numpy as np"
   ]
  },
  {
   "cell_type": "code",
   "execution_count": 2,
   "metadata": {},
   "outputs": [],
   "source": [
    "def merge(a, left, mid, right):\n",
    "    it1 = 0\n",
    "    it2 = 0\n",
    "    result = [i for i in range(right)]\n",
    "    \n",
    "    while (left + it1 < mid) and (mid + it2 < right):\n",
    "        if a[left + it1] < a[mid + it2]:\n",
    "            result[it1+it2] = a[left + it1]\n",
    "            it1 += 1\n",
    "        else:\n",
    "            result[it1 + it2] = a[mid + it2]\n",
    "            it2 += 1\n",
    "    \n",
    "    while left + it1 < mid:\n",
    "        result[it1 + it2] = a[left + it1]\n",
    "        it1 += 1\n",
    "    \n",
    "    while mid + it2 < right:\n",
    "        result[it1 + it2] = a[mid + it2]\n",
    "        it2 += 1\n",
    "    \n",
    "    for i in range(it1+it2):\n",
    "        a[left+i] = result[i]\n",
    "\n",
    "def mergeSortRecursive(a, left, right):\n",
    "    if left + 1 >= right:\n",
    "        return\n",
    "    mid = round((left + right) / 2)\n",
    "    mergeSortRecursive(a, left, mid)\n",
    "    mergeSortRecursive(a, mid, right)\n",
    "    merge(a, left, mid, right)"
   ]
  },
  {
   "cell_type": "code",
   "execution_count": 3,
   "metadata": {},
   "outputs": [
    {
     "name": "stdout",
     "output_type": "stream",
     "text": [
      "[781, 3812, 3680, 2223, 2320, 1481, 357, 1575, 3134, 4260, 155, 1759, 5312, 685, 5034, 337, 2596, 1297, 4014, 2579, 66, 130, 5053, 2727, 797, 5346, 1654, 1265, 1245, 1090, 510, 1800, 4675, 53, 5227, 1206, 1955, 886, 2243, 318, 3108, 2092, 1634, 2813, 108, 2004, 4533, 3446, 5306, 445, 3756, 2191, 637, 4233, 2507, 2284, 2476, 1613, 1384, 2917, 1792, 627, 1280, 32, 3065, 2310, 4103, 4554, 182, 1494, 1433, 3189, 1716, 786, 544, 5177, 3659, 5224, 3906, 3648, 3025, 3133, 1634, 4662, 3396, 585, 2325, 2937, 2512, 15, 5380, 3283, 452, 2117, 2269, 4597, 5276, 4208, 99, 4587, 68, 1892, 737, 4681, 3597, 521, 827, 4119, 4388, 2167, 2510, 592, 3481, 4361, 4183, 4622, 1809, 3402, 175, 663, 2511, 4733, 4401, 2330, 5387, 5342, 5291, 4389, 2079, 5015, 3386, 1611, 715, 2481, 450, 3468, 4216, 3235, 1388, 4165, 3633, 3945, 4165, 2831, 922, 4243, 687, 3869, 3323, 3164, 1571, 2430, 505, 4410, 3891, 631, 1883, 2189, 4904, 5338, 3738, 4873, 5383, 3574, 540, 3352, 838, 3130, 1385, 2675, 3836, 60, 412, 3020, 321, 3427, 4376, 1612, 2901, 1431, 1414, 1492, 5118, 147, 2153, 4937, 3217, 1582, 3211, 244, 1965, 358, 2636, 4847, 2775, 3768, 3915, 88, 831, 1821, 3032, 760, 4551, 3314, 1619, 603, 3281, 4534, 2030, 1757, 3581, 5177, 500, 4860, 4742, 145, 690, 4663, 3977, 2047, 1317, 3676, 2067, 188, 2040, 388, 2908, 4013, 5008, 4628, 5303, 958, 535, 4109, 2759, 1099, 3724, 2908, 4425, 1670, 1946, 4503, 5086, 178, 3306, 172, 2893, 2981, 3966, 2396, 3798, 3970, 1191, 1393, 4071, 946, 3120, 2764, 3067, 2115, 2660, 577, 4755, 5234, 5298, 4005, 2434, 3464, 2791, 4561, 2323, 1976, 5217, 5159, 4967, 4485, 1278, 2678, 154, 345, 4248, 4368, 3596, 3213, 952, 3126, 1624, 4096, 1153, 2817, 2943, 1481, 5334, 1483, 3834, 4613, 1630, 4658, 4198, 3105, 1589, 3655, 619, 1311, 2223, 1425, 3447, 4558, 4933, 5241, 749, 3372, 4381, 1073, 4328, 3257, 1660, 4552, 4743, 962, 1734, 5233, 2462, 1145, 1472, 2041, 3629, 4616, 5107, 4244, 1169, 504, 5061, 3801, 951, 353, 2539, 5351, 4839, 1885, 5240, 4586, 4360, 5258, 3564, 4688, 1026, 3363, 4691, 4468, 5043, 1378, 4146, 4935, 417, 1491, 4241, 5175, 383, 1402, 5112, 2917, 3463, 5152, 3428, 2395, 3063, 3877, 4878, 3332, 1465, 5346, 1920, 412, 1030, 3208, 859, 156, 3529, 908, 2522, 1332, 2186, 2040, 279, 2797, 2868, 1886, 1374, 2537, 3664, 1488, 2367, 466, 763, 1366, 4672, 879, 1188, 4410, 1730, 783, 3619, 4760, 264, 3096, 4258, 1389, 3313, 236, 3414, 4905, 1103, 271, 4704, 3486, 5315, 445, 3324, 147, 3630, 5215, 1034, 4846, 1988, 2497, 439, 310, 925, 447, 560, 4798, 4104, 165, 3523, 3229, 4329, 3593, 1677, 1272, 4033, 2061, 4760, 514, 2874, 5075, 3055, 3526, 886, 1324, 5004, 1997, 5188, 5181, 587, 2292, 5120, 876, 3871, 3861, 44, 2602, 4890, 4782, 1714, 1153, 4219, 1498, 3442, 4600, 2437, 2831, 899, 4452, 2998, 1679, 5111, 1913, 2823, 1997, 1616, 2695, 3632, 5280, 4618, 1189, 1743, 664, 1421, 280, 2110, 4060, 786, 3178, 236, 5185, 1555, 270, 61, 549, 4975, 4212, 3932, 1099, 4318, 4361, 2031, 3122, 968, 3047, 3475, 4558, 3426, 1697, 3123, 901, 2167, 3699, 457, 370, 3695, 2089, 4730, 2239, 1557, 3194, 5306, 772, 3789, 4805, 3317, 3006, 1549, 4818, 3415, 3501, 3412, 34, 3684, 251, 2498, 3685, 3356, 1585, 2258, 1545, 3931, 4883, 4673, 993, 1754, 368, 4355, 776, 3573, 3386, 1972, 1904, 1493, 4242, 3481, 2330, 3744, 627, 2893, 3196, 1819, 2896, 582, 567, 1920, 3458, 2136, 10, 3746, 1317, 4903, 3142, 1296, 1764, 2926, 2471, 2912, 2395, 105, 3568, 3241, 662, 3594, 2147, 1528, 3072, 945, 2056, 3582, 1616, 1240, 1228, 5011, 4118, 1408, 788, 3375, 2865, 3716, 3560, 2684, 3705, 1049, 2296, 344, 3375, 3464, 3858, 3381, 500, 4634, 5315, 2324, 3610, 1455, 1203, 24, 4651, 5073, 1236, 3935, 297, 2558, 3942, 312, 1670, 4042, 2325, 2818, 1775, 5027, 2110, 1605, 4075, 2699, 1872, 608, 5348, 5126, 5094, 1564, 2207, 1632, 4161, 4192, 5079, 5258, 1605, 2007, 3185, 1269, 4507, 2042, 294, 81, 1640, 5111, 3338, 2840, 2236, 2413, 4707, 2317, 3987, 2071, 934, 5345, 2340, 1114, 1621, 4582, 790, 2236, 4872, 3012, 4481, 2518, 2749, 1388, 121, 2592, 3786, 1281, 3133, 4434, 3703, 2042, 4354, 3718, 2594, 1531, 4530, 3412, 4414, 943, 926, 5250, 3469, 1238, 1178, 3278, 535, 3608, 2949, 5072, 5271, 4245, 4560, 597, 712, 2923, 1270, 4748, 527, 183, 4171, 5349, 4209, 4128, 2698, 2931, 1641, 4, 2267, 2244, 306, 417, 3842, 4731, 3086, 3704, 2953, 2466, 2853, 2784, 841, 2459, 2784, 4784, 16, 3758, 3299, 1604, 4595, 2723, 3994, 2752, 819, 4911, 4467, 4829, 3463, 1358, 1275, 4612, 3172, 1750, 2055, 211, 17, 3101, 4514, 366, 2187, 75, 5178, 1192, 2262, 3181, 3780, 3062, 4777, 3090, 1344, 3902, 3192, 2217, 1351, 1118, 4323, 5051, 1482, 2650, 4760, 5364, 5074, 3670, 4340, 4207, 5002, 369, 2953, 1990, 724, 583, 358, 1847, 4838, 2940, 1048, 4173, 4846, 2167, 5364, 2030, 456, 3008, 2513, 4083, 1799, 5355, 1285, 907, 1678, 4693, 3086, 5319, 56, 1861, 2063, 2872, 756, 3405, 601, 1083, 3791, 301, 4369, 3274, 4459, 4154, 2350, 505, 1737, 990, 4167, 146, 3329, 1890, 1382, 3663, 1873, 3715, 3025, 539, 1434, 5167, 416, 4912, 1881, 1683, 2573, 4616, 1973, 4448, 1819, 3177, 2076, 2605, 4574, 2439, 1654, 4947, 3102, 3581, 1100, 3958, 4443, 663, 4778, 2759, 4990, 4273, 795, 1895, 5374, 1895, 33, 838, 3876, 693, 145, 2211, 3700, 5289, 3771, 3303, 5126, 1195, 716, 2181, 1400, 1389, 3709, 1495, 1717, 1200, 1856, 3320, 4365, 4519, 821, 4932, 2455, 977, 4815, 4770, 2231, 4268, 3713, 1710, 3365, 1965, 5331, 4219, 5160, 2092, 3020, 4152, 1295, 4182, 3111, 4620, 3562, 2443, 4375, 5300, 3087, 3098, 3827, 652, 3939, 3302, 2262, 1426, 2762, 174, 3338, 5015, 2926, 2604, 353, 4084, 3043, 2140, 1771, 679, 1310, 4560, 1813, 3016, 2975, 5375, 3513, 3905, 2797, 60, 4748, 1691, 247, 2007, 1044, 5306, 4448, 3044, 4374, 3341, 3611, 2054, 655, 403, 4276, 2110, 849, 2974, 668, 2124, 2184, 923, 2670, 902, 4486, 4462, 2529, 2579, 3081, 5289, 4375, 3041, 3810, 3234, 3170, 173, 5313]\n",
      "[4, 10, 15, 16, 17, 24, 32, 33, 34, 44, 53, 56, 60, 60, 61, 66, 68, 75, 81, 88, 99, 105, 108, 121, 130, 145, 145, 146, 147, 147, 154, 155, 156, 165, 172, 173, 174, 175, 178, 182, 183, 188, 211, 236, 236, 244, 247, 251, 264, 270, 271, 279, 280, 294, 297, 301, 306, 310, 312, 318, 321, 337, 344, 345, 353, 353, 357, 358, 358, 366, 368, 369, 370, 383, 388, 403, 412, 412, 416, 417, 417, 439, 445, 445, 447, 450, 452, 456, 457, 466, 500, 500, 504, 505, 505, 510, 514, 521, 527, 535, 535, 539, 540, 544, 549, 560, 567, 577, 582, 583, 585, 587, 592, 597, 601, 603, 608, 619, 627, 627, 631, 637, 652, 655, 662, 663, 663, 664, 668, 679, 685, 687, 690, 693, 712, 715, 716, 724, 737, 749, 756, 760, 763, 772, 776, 781, 783, 786, 786, 788, 790, 795, 797, 819, 821, 827, 831, 838, 838, 841, 849, 859, 876, 879, 886, 886, 899, 901, 902, 907, 908, 922, 923, 925, 926, 934, 943, 945, 946, 951, 952, 958, 962, 968, 977, 990, 993, 1026, 1030, 1034, 1044, 1048, 1049, 1073, 1083, 1090, 1099, 1099, 1100, 1103, 1114, 1118, 1145, 1153, 1153, 1169, 1178, 1188, 1189, 1191, 1192, 1195, 1200, 1203, 1206, 1228, 1236, 1238, 1240, 1245, 1265, 1269, 1270, 1272, 1275, 1278, 1280, 1281, 1285, 1295, 1296, 1297, 1310, 1311, 1317, 1317, 1324, 1332, 1344, 1351, 1358, 1366, 1374, 1378, 1382, 1384, 1385, 1388, 1388, 1389, 1389, 1393, 1400, 1402, 1408, 1414, 1421, 1425, 1426, 1431, 1433, 1434, 1455, 1465, 1472, 1481, 1481, 1482, 1483, 1488, 1491, 1492, 1493, 1494, 1495, 1498, 1528, 1531, 1545, 1549, 1555, 1557, 1564, 1571, 1575, 1582, 1585, 1589, 1604, 1605, 1605, 1611, 1612, 1613, 1616, 1616, 1619, 1621, 1624, 1630, 1632, 1634, 1634, 1640, 1641, 1654, 1654, 1660, 1670, 1670, 1677, 1678, 1679, 1683, 1691, 1697, 1710, 1714, 1716, 1717, 1730, 1734, 1737, 1743, 1750, 1754, 1757, 1759, 1764, 1771, 1775, 1792, 1799, 1800, 1809, 1813, 1819, 1819, 1821, 1847, 1856, 1861, 1872, 1873, 1881, 1883, 1885, 1886, 1890, 1892, 1895, 1895, 1904, 1913, 1920, 1920, 1946, 1955, 1965, 1965, 1972, 1973, 1976, 1988, 1990, 1997, 1997, 2004, 2007, 2007, 2030, 2030, 2031, 2040, 2040, 2041, 2042, 2042, 2047, 2054, 2055, 2056, 2061, 2063, 2067, 2071, 2076, 2079, 2089, 2092, 2092, 2110, 2110, 2110, 2115, 2117, 2124, 2136, 2140, 2147, 2153, 2167, 2167, 2167, 2181, 2184, 2186, 2187, 2189, 2191, 2207, 2211, 2217, 2223, 2223, 2231, 2236, 2236, 2239, 2243, 2244, 2258, 2262, 2262, 2267, 2269, 2284, 2292, 2296, 2310, 2317, 2320, 2323, 2324, 2325, 2325, 2330, 2330, 2340, 2350, 2367, 2395, 2395, 2396, 2413, 2430, 2434, 2437, 2439, 2443, 2455, 2459, 2462, 2466, 2471, 2476, 2481, 2497, 2498, 2507, 2510, 2511, 2512, 2513, 2518, 2522, 2529, 2537, 2539, 2558, 2573, 2579, 2579, 2592, 2594, 2596, 2602, 2604, 2605, 2636, 2650, 2660, 2670, 2675, 2678, 2684, 2695, 2698, 2699, 2723, 2727, 2749, 2752, 2759, 2759, 2762, 2764, 2775, 2784, 2784, 2791, 2797, 2797, 2813, 2817, 2818, 2823, 2831, 2831, 2840, 2853, 2865, 2868, 2872, 2874, 2893, 2893, 2896, 2901, 2908, 2908, 2912, 2917, 2917, 2923, 2926, 2926, 2931, 2937, 2940, 2943, 2949, 2953, 2953, 2974, 2975, 2981, 2998, 3006, 3008, 3012, 3016, 3020, 3020, 3025, 3025, 3032, 3041, 3043, 3044, 3047, 3055, 3062, 3063, 3065, 3067, 3072, 3081, 3086, 3086, 3087, 3090, 3096, 3098, 3101, 3102, 3105, 3108, 3111, 3120, 3122, 3123, 3126, 3130, 3133, 3133, 3134, 3142, 3164, 3170, 3172, 3177, 3178, 3181, 3185, 3189, 3192, 3194, 3196, 3208, 3211, 3213, 3217, 3229, 3234, 3235, 3241, 3257, 3274, 3278, 3281, 3283, 3299, 3302, 3303, 3306, 3313, 3314, 3317, 3320, 3323, 3324, 3329, 3332, 3338, 3338, 3341, 3352, 3356, 3363, 3365, 3372, 3375, 3375, 3381, 3386, 3386, 3396, 3402, 3405, 3412, 3412, 3414, 3415, 3426, 3427, 3428, 3442, 3446, 3447, 3458, 3463, 3463, 3464, 3464, 3468, 3469, 3475, 3481, 3481, 3486, 3501, 3513, 3523, 3526, 3529, 3560, 3562, 3564, 3568, 3573, 3574, 3581, 3581, 3582, 3593, 3594, 3596, 3597, 3608, 3610, 3611, 3619, 3629, 3630, 3632, 3633, 3648, 3655, 3659, 3663, 3664, 3670, 3676, 3680, 3684, 3685, 3695, 3699, 3700, 3703, 3704, 3705, 3709, 3713, 3715, 3716, 3718, 3724, 3738, 3744, 3746, 3756, 3758, 3768, 3771, 3780, 3786, 3789, 3791, 3798, 3801, 3810, 3812, 3827, 3834, 3836, 3842, 3858, 3861, 3869, 3871, 3876, 3877, 3891, 3902, 3905, 3906, 3915, 3931, 3932, 3935, 3939, 3942, 3945, 3958, 3966, 3970, 3977, 3987, 3994, 4005, 4013, 4014, 4033, 4042, 4060, 4071, 4075, 4083, 4084, 4096, 4103, 4104, 4109, 4118, 4119, 4128, 4146, 4152, 4154, 4161, 4165, 4165, 4167, 4171, 4173, 4182, 4183, 4192, 4198, 4207, 4208, 4209, 4212, 4216, 4219, 4219, 4233, 4241, 4242, 4243, 4244, 4245, 4248, 4258, 4260, 4268, 4273, 4276, 4318, 4323, 4328, 4329, 4340, 4354, 4355, 4360, 4361, 4361, 4365, 4368, 4369, 4374, 4375, 4375, 4376, 4381, 4388, 4389, 4401, 4410, 4410, 4414, 4425, 4434, 4443, 4448, 4448, 4452, 4459, 4462, 4467, 4468, 4481, 4485, 4486, 4503, 4507, 4514, 4519, 4530, 4533, 4534, 4551, 4552, 4554, 4558, 4558, 4560, 4560, 4561, 4574, 4582, 4586, 4587, 4595, 4597, 4600, 4612, 4613, 4616, 4616, 4618, 4620, 4622, 4628, 4634, 4651, 4658, 4662, 4663, 4672, 4673, 4675, 4681, 4688, 4691, 4693, 4704, 4707, 4730, 4731, 4733, 4742, 4743, 4748, 4748, 4755, 4760, 4760, 4760, 4770, 4777, 4778, 4782, 4784, 4798, 4805, 4815, 4818, 4829, 4838, 4839, 4846, 4846, 4847, 4860, 4872, 4873, 4878, 4883, 4890, 4903, 4904, 4905, 4911, 4912, 4932, 4933, 4935, 4937, 4947, 4967, 4975, 4990, 5002, 5004, 5008, 5011, 5015, 5015, 5027, 5034, 5043, 5051, 5053, 5061, 5072, 5073, 5074, 5075, 5079, 5086, 5094, 5107, 5111, 5111, 5112, 5118, 5120, 5126, 5126, 5152, 5159, 5160, 5167, 5175, 5177, 5177, 5178, 5181, 5185, 5188, 5215, 5217, 5224, 5227, 5233, 5234, 5240, 5241, 5250, 5258, 5258, 5271, 5276, 5280, 5289, 5289, 5291, 5298, 5300, 5303, 5306, 5306, 5306, 5312, 5313, 5315, 5315, 5319, 5331, 5334, 5338, 5342, 5345, 5346, 5346, 5348, 5349, 5351, 5355, 5364, 5364, 5374, 5375, 5380, 5383, 5387]\n"
     ]
    }
   ],
   "source": [
    "arr = np.random.randint(0, 5400, 1000).tolist()\n",
    "print(arr)\n",
    "mergeSortRecursive(arr, 0, len(arr))\n",
    "print(arr)"
   ]
  },
  {
   "cell_type": "code",
   "execution_count": 5,
   "metadata": {},
   "outputs": [],
   "source": [
    "def merge1(x, y):\n",
    "    if len(x) == 0:\n",
    "        return y\n",
    "    if len(y) == 0:\n",
    "        return x\n",
    "    if x[0] <= y[0]:\n",
    "        return x[:1] + merge1(x[1:], y)\n",
    "    if x[0] > y[0]:\n",
    "        return y[:1] + merge1(x, y[1:])\n",
    "\n",
    "def mergeSort(a):\n",
    "    m = round(len(a)/2)\n",
    "    if len(a) > 1:\n",
    "        return merge1(mergeSort(a[:m]), mergeSort(a[m:]))\n",
    "    else:\n",
    "        return a"
   ]
  },
  {
   "cell_type": "code",
   "execution_count": 6,
   "metadata": {},
   "outputs": [
    {
     "name": "stdout",
     "output_type": "stream",
     "text": [
      "[54, 24, 17, 13, 3, 94, 91, 44, 39, 35]\n"
     ]
    },
    {
     "data": {
      "text/plain": [
       "[3, 13, 17, 24, 35, 39, 44, 54, 91, 94]"
      ]
     },
     "execution_count": 6,
     "metadata": {},
     "output_type": "execute_result"
    }
   ],
   "source": [
    "arr = [54, 24, 17, 13 , 3,94 ,91 ,44 ,39 ,35]\n",
    "print(arr)\n",
    "new_arr = mergeSort(arr)\n",
    "new_arr"
   ]
  },
  {
   "cell_type": "markdown",
   "metadata": {},
   "source": [
    "## Quick sort\n",
    "\n",
    "Time complexity: \n",
    "\n",
    "Best: $O(n * log (n))$\n",
    "\n",
    "Worst: $O(n^2)$"
   ]
  },
  {
   "cell_type": "code",
   "execution_count": 31,
   "metadata": {},
   "outputs": [
    {
     "data": {
      "text/plain": [
       "[<matplotlib.lines.Line2D at 0x7fc8545b6550>]"
      ]
     },
     "execution_count": 31,
     "metadata": {},
     "output_type": "execute_result"
    },
    {
     "data": {
      "image/png": "[encoded data removed]",
      "text/plain": [
       "<Figure size 432x288 with 1 Axes>"
      ]
     },
     "metadata": {
      "needs_background": "light"
     },
     "output_type": "display_data"
    }
   ],
   "source": [
    "import time\n",
    "import matplotlib.pyplot as plt\n",
    "import math\n",
    "\n",
    "def partition(a, low, high):\n",
    "    pivot = a[(high+low)//2]\n",
    "    i = low\n",
    "    j = high\n",
    "    while i <= j:\n",
    "        while a[i] < pivot:         \n",
    "            i += 1\n",
    "        while a[j] > pivot:\n",
    "            j -= 1\n",
    "\n",
    "        if i >= j:\n",
    "            break\n",
    "        a_i = a[i]\n",
    "        a[i] = a[j]\n",
    "        a[j] = a_i\n",
    "        i += 1\n",
    "        j -= 1\n",
    "    return j\n",
    "        \n",
    "def qsort(a, l, h):\n",
    "    if l < h:\n",
    "        p = partition(a, l, h)\n",
    "        qsort(a, l, p)\n",
    "        qsort(a, p+1, h)\n",
    "\n",
    "x, y, y1 = [], [], []    \n",
    "n = 1000\n",
    "for i in range(1, n):        \n",
    "    x.append(i)\n",
    "    arr = np.random.randint(0, 1000, i).tolist()\n",
    "    arr_len = len(arr)\n",
    "    start_time = time.time()\n",
    "    qsort(arr, 0, arr_len-1)\n",
    "    end_time = time.time() - start_time\n",
    "    y.append(end_time)\n",
    "    y1.append(i * math.log(i))\n",
    "\n",
    "y_max = max(y)\n",
    "y1_max = max(y1)\n",
    "y = [el/y_max for el in y]\n",
    "y1 = [el/y1_max for el in y1]\n",
    "plt.plot(x, y)\n",
    "plt.plot(x, y1)"
   ]
  },
  {
   "cell_type": "code",
   "execution_count": 53,
   "metadata": {},
   "outputs": [
    {
     "name": "stdout",
     "output_type": "stream",
     "text": [
      "[9449, 3784, 2895, 2933, 1477, 8633, 1507, 237, 9920, 4463, 6944, 3124, 2441, 4934, 9211, 48, 6802, 7856, 7038, 5288, 8906, 14473, 7796, 13872, 9575, 5284, 492, 5910, 7788, 12211, 10453, 3691, 3334, 13053, 11198, 6000, 9422, 1241, 2620, 842, 3821, 5019, 2097, 5603, 3805, 13460, 8948, 12691, 5310, 11847, 14288, 511, 4451, 6269, 12473, 1345, 8370, 9845, 14806, 2394, 9620, 11499, 12431, 4334, 10481, 2130, 9851, 14106, 9966, 1843, 7826, 11287, 13016, 14677, 2429, 10060, 12995, 8754, 12794, 14474, 12215, 7369, 4243, 13280, 5566, 11631, 6936, 8680, 7037, 6003, 2825, 7767, 13493, 14423, 2510, 14886, 9166, 9745, 2121, 14008]\n",
      "[48, 237, 492, 511, 842, 1241, 1345, 1477, 1507, 1843, 2097, 2121, 2130, 2394, 2429, 2441, 2510, 2620, 2825, 2895, 2933, 3124, 3334, 3691, 3784, 3805, 3821, 4243, 4334, 4451, 4463, 4934, 5019, 5284, 5288, 5310, 5566, 5603, 5910, 6000, 6003, 6269, 6802, 6936, 6944, 7037, 7038, 7369, 7767, 7788, 7796, 7826, 7856, 8370, 8633, 8680, 8754, 8906, 8948, 9166, 9211, 9422, 9449, 9575, 9620, 9745, 9845, 9851, 9920, 9966, 10060, 10453, 10481, 11198, 11287, 11499, 11631, 11847, 12211, 12215, 12431, 12473, 12691, 12794, 12995, 13016, 13053, 13280, 13460, 13493, 13872, 14008, 14106, 14288, 14423, 14473, 14474, 14677, 14806, 14886]\n"
     ]
    }
   ],
   "source": [
    "def partition1(a, l, h):\n",
    "    p = a[int((l+h)//2)]\n",
    "    i = l\n",
    "    j = h\n",
    "    while True:\n",
    "        while a[i] < p:\n",
    "            i += 1\n",
    "        while a[j] > p:\n",
    "            j -= 1\n",
    "        if i >= j:\n",
    "            return j\n",
    "        a_i = a[i]\n",
    "        a[i] = a[j]\n",
    "        a[j] = a_i\n",
    "        i += 1\n",
    "        j -= 1\n",
    "        \n",
    "def quicksort1(a, l, h):\n",
    "    if l < h:\n",
    "        p = partition1(a, l, h)\n",
    "        quicksort1(a, l, p)\n",
    "        quicksort1(a, p+1, h)\n",
    "\n",
    "s = np.random.randint(0, 15000, 100).tolist()\n",
    "print(s)\n",
    "\n",
    "quicksort1(s, 0, len(s)-1)\n",
    "print(s)"
   ]
  },
  {
   "cell_type": "code",
   "execution_count": null,
   "metadata": {},
   "outputs": [],
   "source": []
  },
  {
   "cell_type": "code",
   "execution_count": null,
   "metadata": {},
   "outputs": [],
   "source": []
  },
  {
   "cell_type": "code",
   "execution_count": 10,
   "metadata": {},
   "outputs": [],
   "source": [
    "class myqueue:\n",
    "    def __init__(self):\n",
    "        self.items = []\n",
    "    def isEmpty(self):\n",
    "        return self.items == []\n",
    "    def inject(self, item):\n",
    "        self.items.insert(0, item)\n",
    "    def eject(self):\n",
    "        return self.items.pop()\n",
    "    def size(self):\n",
    "        return len(self.items)\n",
    "\n",
    "def merge2(x, y):\n",
    "    if len(x) == 0:\n",
    "        return y\n",
    "    if len(y) == 0:\n",
    "        return x\n",
    "    if x[0] <= y[0]:\n",
    "        return x[:1] + merge2(x[1:], y)\n",
    "    else:\n",
    "        return y[:1] + merge2(x, y[1:])\n",
    "\n",
    "def iterativeMergeSort(a):\n",
    "    q = myqueue()\n",
    "    [q.inject([el]) for el in a]\n",
    "    while q.size() > 1:\n",
    "        q.inject(merge2(q.eject(), q.eject()))\n",
    "    return q.eject()"
   ]
  },
  {
   "cell_type": "code",
   "execution_count": 12,
   "metadata": {},
   "outputs": [
    {
     "name": "stdout",
     "output_type": "stream",
     "text": [
      "[3362, 1278, 1959, 3453, 1454, 989, 5226, 99, 2582, 4065, 328, 2983, 3628, 776, 136, 3042, 2703, 4952, 129, 397, 4597, 2723, 4633, 2745, 5301, 977, 932, 609, 4315, 958, 49, 2872, 3838, 294, 576, 2947, 241, 3603, 909, 5240, 3130, 2637, 1547, 192, 4207, 798, 1853, 108, 2087, 1477, 846, 3720, 1429, 3451, 729, 952, 312, 1969, 3598, 966, 4682, 2834, 1977, 2357, 1387, 1919, 4067, 2429, 3766, 2244, 302, 1161, 38, 3100, 1601, 874, 4329, 3979, 579, 2964, 4449, 4019, 1348, 327, 5394, 4420, 1482, 490, 2453, 1505, 805, 641, 1215, 434, 4414, 5357, 3570, 1500, 4959, 1141, 3791, 2382, 1705, 869, 3882, 660, 4703, 3052, 1914, 3437, 4467, 1540, 1630, 38, 1631, 2576, 672, 4572, 3087, 3443, 4660, 4403, 4636, 4458, 3931, 1405, 513, 621, 1990, 2354, 915, 4572, 2598, 2837, 110, 4531, 2491, 3198, 4806, 385, 1501, 4555, 4931, 1397, 3676, 4205, 2360, 111, 3371, 2503, 4641, 3166, 4814, 190, 3682, 3309, 5009, 2209, 850, 895, 2954, 4501, 4009, 1484, 4924, 1623, 2456, 2633, 106, 5222, 1800, 3012, 3997, 2827, 3622, 89, 3630, 2000, 2932, 2488, 2800, 3400, 5029, 2583, 4095, 4316, 4507, 2168, 2733, 5346, 914, 32, 4227, 4219, 1154, 3555, 3828, 2523, 4027, 802, 1919, 2609, 1294, 2197, 3529, 1900, 230, 883, 7, 1060, 5028, 3870, 3062, 2103, 5227, 2316, 4362, 2660, 4524, 2164, 3247, 659, 2347, 4636, 3192, 2823, 4578, 608, 1248, 3972, 2819, 4419, 2250, 1146, 2770, 4554, 2032, 448, 4475, 1005, 1533, 750, 867, 4054, 2078, 4329, 2945, 1909, 1174, 5359, 5085, 2917, 2086, 2336, 627, 3342, 3055, 3502, 3581, 582, 2820, 1853, 1977, 340, 594, 1897, 1012, 972, 3931, 1844, 3704, 1782, 306, 4116, 171, 5047, 4651, 4749, 247, 4378, 1323, 1174, 322, 1996, 1126, 1570, 4733, 356, 2538, 83, 2258, 4489, 4185, 2994, 948, 3494, 739, 2302, 5309, 2823, 3881, 5375, 1679, 4392, 1133, 3536, 2775, 1583, 1744, 4180, 4882, 1456, 756, 267, 3369, 857, 1993, 991, 2292, 874, 3741, 4638, 2341, 810, 1083, 2550, 4180, 188, 4607, 5258, 4370, 883, 185, 804, 5373, 482, 4386, 2535, 5096, 2354, 3571, 1437, 1231, 1906, 719, 982, 1549, 623, 4934, 3266, 3677, 4812, 1866, 2856, 4390, 3009, 5366, 2952, 4729, 782, 4541, 639, 3906, 4884, 34, 874, 4624, 4, 2585, 1738, 2233, 191, 2136, 2414, 3902, 2695, 4585, 802, 4748, 5091, 5055, 4462, 934, 1828, 3158, 2209, 4974, 4773, 2476, 3578, 2064, 1320, 2117, 2024, 663, 2492, 4807, 4197, 3654, 3288, 2088, 2922, 4607, 4476, 4982, 1175, 1200, 421, 5214, 2258, 124, 367, 5215, 2952, 689, 1500, 4062, 4019, 2670, 344, 4282, 1486, 3031, 3707, 1152, 1050, 4702, 181, 3662, 4038, 1462, 3443, 282, 5111, 2276, 2364, 5003, 228, 576, 3164, 1695, 1723, 4707, 4387, 4204, 4014, 1242, 1840, 3570, 4918, 1253, 3693, 4164, 1547, 5241, 5349, 3582, 2624, 4318, 833, 900, 2042, 3950, 134, 219, 1426, 3328, 1282, 3416, 564, 1424, 3424, 4200, 2059, 226, 1499, 4591, 2137, 835, 4206, 81, 4042, 3335, 3833, 3253, 5223, 1548, 4107, 343, 4266, 113, 3218, 4989, 790, 418, 311, 2677, 4993, 3043, 4270, 1216, 4902, 1835, 3092, 3023, 3123, 3546, 2568, 4867, 2474, 317, 5239, 3301, 1354, 4993, 2995, 4347, 4932, 3159, 461, 5389, 2146, 2887, 5314, 2506, 4938, 4255, 2641, 3462, 4482, 2090, 3350, 5101, 156, 3583, 59, 3077, 2173, 1933, 2608, 1270, 4522, 1749, 0, 766, 1203, 4240, 4435, 360, 3181, 2220, 4678, 1501, 3223, 2979, 1360, 3891, 4440, 1204, 3841, 1597, 877, 982, 4402, 2367, 612, 5185, 1519, 3838, 1594, 4659, 4436, 5070, 948, 2716, 601, 1065, 5330, 2800, 5397, 2894, 1536, 2761, 1890, 2619, 3975, 1843, 1458, 2990, 3921, 5353, 2389, 677, 1594, 1692, 4001, 1735, 195, 33, 2459, 2868, 2911, 5392, 1518, 1749, 116, 3828, 1510, 1605, 982, 4214, 3774, 294, 365, 4453, 5295, 4619, 396, 1999, 2291, 539, 4535, 3066, 529, 174, 3773, 1686, 2450, 4578, 4701, 3631, 1359, 4347, 1652, 1834, 634, 2577, 621, 4729, 2332, 1332, 956, 1244, 4792, 954, 2638, 856, 1322, 3336, 5256, 1181, 1959, 3240, 5336, 613, 3216, 2285, 2291, 1663, 2370, 316, 3976, 3935, 2266, 1510, 2244, 494, 196, 5394, 5295, 1830, 1250, 1754, 495, 4197, 1178, 4913, 2276, 115, 2849, 4044, 1571, 1692, 2034, 3169, 1656, 4055, 4682, 4937, 1942, 3064, 649, 3235, 3143, 4456, 1266, 3137, 251, 3304, 3516, 1199, 4043, 873, 5118, 2590, 1018, 91, 4191, 3415, 1507, 4591, 4047, 378, 5231, 5101, 671, 3616, 1409, 616, 2948, 1972, 5222, 903, 2175, 1624, 2469, 4542, 645, 3471, 3632, 4980, 2463, 1938, 2240, 5275, 1003, 4483, 3262, 5141, 4475, 5231, 3011, 3283, 913, 5329, 1610, 2935, 418, 3968, 2826, 1019, 3705, 3193, 3607, 5229, 331, 2139, 4509, 3319, 745, 3244, 3229, 3010, 4543, 3795, 4937, 1391, 2502, 5088, 1831, 451, 2593, 3313, 2733, 3829, 4394, 3002, 1517, 2662, 1891, 2554, 3078, 5076, 3428, 203, 5191, 4504, 3406, 1935, 3489, 1308, 4169, 655, 4353, 1623, 1630, 1725, 3853, 4925, 5276, 4802, 2365, 4744, 496, 2373, 275, 1254, 1295, 1155, 3650, 1426, 5083, 1845, 3659, 3487, 999, 2554, 2995, 2500, 3856, 112, 5265, 2848, 2734, 3754, 3195, 3684, 215, 4386, 4184, 5125, 5167, 2470, 3631, 1075, 3986, 873, 294, 889, 3229, 4896, 1584, 5236, 2197, 2303, 1087, 2044, 3439, 332, 1572, 4121, 2156, 1555, 5363, 4947, 4607, 3413, 3480, 4755, 50, 4816, 2619, 263, 4384, 538, 3823, 3418, 2324, 1637, 1650, 5256, 278, 2219, 1984, 1635, 3994, 76, 3058, 1018, 2691, 1376, 2556, 4028, 586, 2599, 276, 2839, 2904, 5171, 1100, 4439, 5115, 1928, 1199, 2484, 4784, 708, 2665, 4725, 1419, 2299, 2066, 2246, 3799, 1920, 2250, 4936, 4735, 2871, 3304, 4973, 2099, 2694, 3784, 1409, 2855, 3360, 3890, 4170, 740, 3117, 3331, 2525, 3239, 3449, 3592, 3814, 4056, 3170, 3117, 841, 3500, 3049, 3947, 5257, 2073, 3263, 1895, 4744, 2149, 1540, 5369, 4698, 3671, 47, 4461, 1860, 3962, 770, 671, 1661, 1297, 3041, 1879, 2624, 3368, 404, 1662, 1536, 1188, 2848, 3499, 4597, 1935, 4170, 999, 1052, 2078, 3608, 2395, 3844, 5378, 63, 3357, 1162, 2002, 3618, 1171, 2247, 2965, 2208, 381, 850, 3601, 4884, 3375, 4640, 812, 780, 640, 2370, 2303, 1893, 5362, 1803, 1638, 2292, 5128, 2421, 3270, 1178, 1252, 5152, 2794, 1975, 3781, 3632, 2572, 5074, 1845, 2835, 3353, 4358, 2074, 1905, 2717, 3915, 384, 1307, 4446, 3688, 669, 4425, 3120, 1095, 2572, 2088, 3301, 3110, 3289, 2786, 1275, 3960, 1078, 99, 3955, 2142, 4485, 2928, 3312, 4188, 713, 3664, 2152, 1201, 478, 278, 1323, 4155, 3170, 2207, 589, 2605, 1734, 3221, 4117, 3582, 5316, 809, 4617, 2829, 4433, 4136, 1386, 4727, 4542, 2643, 278, 2101, 3243, 4644, 2974, 208, 293, 2050, 2911, 3958, 4394, 2147, 2130, 2082, 1434, 3484, 2159, 1131, 49, 748, 1447, 5211, 5127, 4961, 746, 2956, 535, 3129, 4185, 4292, 4735, 3482, 1621, 3467, 2777, 189, 2809, 4804, 370, 1362, 15, 2488, 2284, 3330, 973, 4550, 4689, 1071, 4823, 1479, 4992, 3743, 1651, 2168, 5185, 3694, 342, 3296, 1033, 1389, 1534, 3749, 3000, 5134, 1342, 4452, 1220, 963, 3594, 197, 2755, 41, 5098, 1104, 4, 4680, 4731, 1350, 2238, 4542, 3043, 1598, 596, 4587, 4803, 2789, 311, 924, 4844, 172, 4389, 1132, 3763, 3003, 1884, 4652, 5335, 4024, 4305, 4678, 867, 197, 3680, 2465, 3791, 3155, 2701, 2440, 2639, 4621, 2610, 4594, 4245, 3751, 1994, 180, 2667, 3882, 4877, 1649, 5392, 122, 3214, 1231, 3889, 481, 923, 2468, 3679, 4439, 532, 2765, 1096, 986, 4577, 2602, 2718, 2876, 3558, 3134, 3675, 4243, 1251, 3355, 4569, 516, 5005, 2460, 3131, 2287, 4915, 5133, 3881, 1104, 4770, 1580, 134, 4023, 1145, 2858, 108, 2491, 25, 3955, 386, 818, 3783, 2409, 3532, 4958, 809, 3877, 112, 1124, 3758, 5150, 3983, 2599, 1917, 2259, 3382, 2124, 1359, 2490, 1557, 4161, 1956, 3930, 1631, 2706, 4800, 1100, 3588, 3848, 4616, 2959, 1500, 499, 2655, 2786, 3374, 3524, 264, 4043, 4559, 426, 2222, 1126, 1573, 3162, 5263, 3821, 3266, 3748, 2747, 1893, 3236, 3233, 4654, 507, 3050, 1172, 2673, 4459, 3750, 4831, 2430, 671, 397, 4170, 2038, 2994, 2619, 1630, 1673, 206, 3155, 2435, 2733, 4723, 2578, 4554, 1015, 331, 2387, 5138, 2598, 148, 294, 4381, 1572, 3842, 3593, 1610, 3748, 2190, 694, 4316, 4618, 559, 3939, 4796, 4581, 561, 1419, 3343, 957, 1010, 1477, 4264, 1217, 220, 4556, 3374, 547, 496, 651, 3622, 262, 5219, 4489, 2314, 674, 5334, 596, 5126, 3962, 3527, 5051, 4958, 3132, 200, 3413, 301, 1738, 5285, 668, 3906, 3751, 309, 5224, 4796, 3785, 2810, 4201, 40, 1218, 5307, 4114, 1370, 2108, 2193, 5157, 2103, 2786, 2291, 1940, 1541, 3470, 6, 4240, 4234, 2054, 1320, 1750, 4357, 4455, 2267, 2015, 3636, 905, 990, 4697, 615, 1244, 2673, 5107, 765, 5056, 4642, 5174, 3297, 4047, 82, 11, 284, 627, 1839, 4566, 3261, 1861, 1548, 4161, 145, 4340, 2354, 523, 31, 3158, 2057, 548, 1349, 503, 999, 522, 3738, 4201, 480, 3345, 2407, 2291, 2112, 2017, 552, 3863, 4652, 1578, 3524, 2481, 700, 2065, 3388, 3946, 5179, 2776, 56, 5373, 2911, 2449, 3996, 2820, 1979, 4449, 1730, 976, 2363, 1523, 2339, 276, 3919, 3138, 1477, 4229, 5281, 2664, 4922, 2705, 1439, 832, 277, 1182, 3100, 2042, 3819, 4459, 1554, 3724, 4512, 934, 213, 3433, 3267, 1321, 3853, 4110, 5053, 3970, 4400, 5140, 5050, 4674, 3042, 5168, 4133, 1789, 574, 4718, 97, 4293, 2459, 4379, 1045, 3457, 4521, 4889, 4439, 466, 2680, 4198, 5259, 137, 5087, 2376, 4481, 2636, 624, 5292, 4994, 3465, 3767, 2480, 4609, 3730, 3772, 2250, 2655, 900, 698, 1898, 3118, 61, 4032, 4059, 2487, 2671, 4666, 4146, 3133, 2905, 1098, 2319, 5189, 3208, 549, 1914, 3893, 4604, 855, 2942, 230, 1496, 2502, 3225, 3346, 1068, 996, 4178, 4575, 1558, 5218, 2627, 4899, 1135, 310, 538, 1655, 2641, 2460, 2014, 1974, 3340, 920, 3252, 1417, 4919, 5096, 259, 4339, 4681, 3438, 2468, 3049, 3154, 2624, 5399, 4367, 1101, 4282, 4594, 3876, 1399, 4271, 4093, 4311, 3216, 2813, 4858, 2516, 4593, 4972, 4798, 731, 5380, 4160, 2716, 2762, 1331, 4386, 2784, 87, 3895, 3472, 2183, 2088, 2041, 238, 3809, 4886, 583, 2480, 2170, 63, 4206, 433, 874, 1028, 116, 2638, 4632, 2137, 756, 1892, 157, 4310, 563, 4712, 4360, 5004, 2379, 1019, 306, 1205, 1973, 4220, 378, 1944, 4166, 3654, 903, 613, 2448, 468, 4119, 2258, 3391, 5156, 3747, 4772, 3333, 5072, 4203, 3903, 2797, 2698, 851, 3916, 182, 1865, 4699, 5369, 1793, 5064, 780, 1621, 2888, 3946, 2662, 5340, 688, 3957, 712, 2670, 1709, 4547, 1871, 528, 2206, 3869, 4687, 4130, 4586, 4146, 508, 371, 814, 3287, 2907, 242, 1503, 773, 67, 4611, 5200, 3538, 2810, 468, 5112, 4022, 3640, 1949, 164, 4228, 3506, 3158, 3918, 3487, 4408, 3223, 4428, 4100, 3532, 4746, 2735, 1348, 735, 1068, 410, 4067, 3163, 5274, 5237, 4633, 2467, 1404, 2057, 1647, 1802, 5010, 3829, 4195, 1792, 19, 1237, 3225, 311, 207, 4598, 952, 3518, 1183, 1907, 1955, 1934, 1225, 3881, 257, 4883, 183, 1812, 5320, 5310, 3196, 420, 3527, 1685, 1519, 270, 588, 3799, 4019, 2779, 3046, 258, 5220, 2128, 883, 2419, 1035, 1302, 469, 4110, 2334, 4648, 3889, 3299, 1159, 2307, 2347, 5307, 487, 2300, 2391, 1293, 466, 2439, 3332, 2836, 2261, 960, 399, 250, 880, 4409, 1603, 3840, 932, 2865, 4083, 4154, 807, 3830, 1817, 212, 947, 1907, 1148, 755, 782, 4771, 1384, 1194, 184, 3936, 4383, 1349, 1224, 4721, 4619, 4446, 915, 3843, 414, 423, 3606, 2576, 135, 3064, 3979, 2451, 261, 3817, 1849, 3348, 2477, 4390, 1600, 1439, 2549, 5098, 4174, 1434, 1088, 1637, 2258, 1464, 1524, 1702, 2215, 3318, 2047, 1486, 2058, 1999, 4136, 3097, 3193, 4267, 5170, 4984, 3701, 724, 3624, 4570, 2496, 5058, 101, 4861, 4239, 2240, 3853, 3684, 2586, 2900, 2437, 279, 4646, 813, 2044, 2483, 2497, 2599, 5213, 509, 5174, 258, 3533, 2794, 4369, 799, 1970, 4052, 5119, 3816, 1579, 1270, 447, 4384, 1266, 2069, 1159, 2781, 70, 3085, 157, 813, 1267, 1275, 2550, 3709, 4342, 2594, 1161, 886, 1809, 2642, 1915, 4330, 4321, 4522, 3943, 3694, 3915, 5138, 1439, 481, 1473, 3167, 2248, 5249, 2390, 5344, 5370, 1940, 5366, 1586, 3821, 3842, 151, 650, 4458, 2748, 4356, 2631, 771, 4681, 3793, 4152, 2904, 683, 2882, 3887, 0, 2288, 4047, 1150, 4784, 4680, 1306, 3576, 5150, 131, 3238, 5181, 2494, 1482, 5211, 3891, 3394, 4328, 4360, 3013, 743, 925, 1366, 1860, 3495, 3313, 3582, 1172, 3620, 3153, 2136, 2329]\n",
      "[0, 0, 4, 4, 6, 7, 11, 15, 19, 25, 31, 32, 33, 34, 38, 38, 40, 41, 47, 49, 49, 50, 56, 59, 61, 63, 63, 67, 70, 76, 81, 82, 83, 87, 89, 91, 97, 99, 99, 101, 106, 108, 108, 110, 111, 112, 112, 113, 115, 116, 116, 122, 124, 129, 131, 134, 134, 135, 136, 137, 145, 148, 151, 156, 157, 157, 164, 171, 172, 174, 180, 181, 182, 183, 184, 185, 188, 189, 190, 191, 192, 195, 196, 197, 197, 200, 203, 206, 207, 208, 212, 213, 215, 219, 220, 226, 228, 230, 230, 238, 241, 242, 247, 250, 251, 257, 258, 258, 259, 261, 262, 263, 264, 267, 270, 275, 276, 276, 277, 278, 278, 278, 279, 282, 284, 293, 294, 294, 294, 294, 301, 302, 306, 306, 309, 310, 311, 311, 311, 312, 316, 317, 322, 327, 328, 331, 331, 332, 340, 342, 343, 344, 356, 360, 365, 367, 370, 371, 378, 378, 381, 384, 385, 386, 396, 397, 397, 399, 404, 410, 414, 418, 418, 420, 421, 423, 426, 433, 434, 447, 448, 451, 461, 466, 466, 468, 468, 469, 478, 480, 481, 481, 482, 487, 490, 494, 495, 496, 496, 499, 503, 507, 508, 509, 513, 516, 522, 523, 528, 529, 532, 535, 538, 538, 539, 547, 548, 549, 552, 559, 561, 563, 564, 574, 576, 576, 579, 582, 583, 586, 588, 589, 594, 596, 596, 601, 608, 609, 612, 613, 613, 615, 616, 621, 621, 623, 624, 627, 627, 634, 639, 640, 641, 645, 649, 650, 651, 655, 659, 660, 663, 668, 669, 671, 671, 671, 672, 674, 677, 683, 688, 689, 694, 698, 700, 708, 712, 713, 719, 724, 729, 731, 735, 739, 740, 743, 745, 746, 748, 750, 755, 756, 756, 765, 766, 770, 771, 773, 776, 780, 780, 782, 782, 790, 798, 799, 802, 802, 804, 805, 807, 809, 809, 810, 812, 813, 813, 814, 818, 832, 833, 835, 841, 846, 850, 850, 851, 855, 856, 857, 867, 867, 869, 873, 873, 874, 874, 874, 874, 877, 880, 883, 883, 883, 886, 889, 895, 900, 900, 903, 903, 905, 909, 913, 914, 915, 915, 920, 923, 924, 925, 932, 932, 934, 934, 947, 948, 948, 952, 952, 954, 956, 957, 958, 960, 963, 966, 972, 973, 976, 977, 982, 982, 982, 986, 989, 990, 991, 996, 999, 999, 999, 1003, 1005, 1010, 1012, 1015, 1018, 1018, 1019, 1019, 1028, 1033, 1035, 1045, 1050, 1052, 1060, 1065, 1068, 1068, 1071, 1075, 1078, 1083, 1087, 1088, 1095, 1096, 1098, 1100, 1100, 1101, 1104, 1104, 1124, 1126, 1126, 1131, 1132, 1133, 1135, 1141, 1145, 1146, 1148, 1150, 1152, 1154, 1155, 1159, 1159, 1161, 1161, 1162, 1171, 1172, 1172, 1174, 1174, 1175, 1178, 1178, 1181, 1182, 1183, 1188, 1194, 1199, 1199, 1200, 1201, 1203, 1204, 1205, 1215, 1216, 1217, 1218, 1220, 1224, 1225, 1231, 1231, 1237, 1242, 1244, 1244, 1248, 1250, 1251, 1252, 1253, 1254, 1266, 1266, 1267, 1270, 1270, 1275, 1275, 1278, 1282, 1293, 1294, 1295, 1297, 1302, 1306, 1307, 1308, 1320, 1320, 1321, 1322, 1323, 1323, 1331, 1332, 1342, 1348, 1348, 1349, 1349, 1350, 1354, 1359, 1359, 1360, 1362, 1366, 1370, 1376, 1384, 1386, 1387, 1389, 1391, 1397, 1399, 1404, 1405, 1409, 1409, 1417, 1419, 1419, 1424, 1426, 1426, 1429, 1434, 1434, 1437, 1439, 1439, 1439, 1447, 1454, 1456, 1458, 1462, 1464, 1473, 1477, 1477, 1477, 1479, 1482, 1482, 1484, 1486, 1486, 1496, 1499, 1500, 1500, 1500, 1501, 1501, 1503, 1505, 1507, 1510, 1510, 1517, 1518, 1519, 1519, 1523, 1524, 1533, 1534, 1536, 1536, 1540, 1540, 1541, 1547, 1547, 1548, 1548, 1549, 1554, 1555, 1557, 1558, 1570, 1571, 1572, 1572, 1573, 1578, 1579, 1580, 1583, 1584, 1586, 1594, 1594, 1597, 1598, 1600, 1601, 1603, 1605, 1610, 1610, 1621, 1621, 1623, 1623, 1624, 1630, 1630, 1630, 1631, 1631, 1635, 1637, 1637, 1638, 1647, 1649, 1650, 1651, 1652, 1655, 1656, 1661, 1662, 1663, 1673, 1679, 1685, 1686, 1692, 1692, 1695, 1702, 1705, 1709, 1723, 1725, 1730, 1734, 1735, 1738, 1738, 1744, 1749, 1749, 1750, 1754, 1782, 1789, 1792, 1793, 1800, 1802, 1803, 1809, 1812, 1817, 1828, 1830, 1831, 1834, 1835, 1839, 1840, 1843, 1844, 1845, 1845, 1849, 1853, 1853, 1860, 1860, 1861, 1865, 1866, 1871, 1879, 1884, 1890, 1891, 1892, 1893, 1893, 1895, 1897, 1898, 1900, 1905, 1906, 1907, 1907, 1909, 1914, 1914, 1915, 1917, 1919, 1919, 1920, 1928, 1933, 1934, 1935, 1935, 1938, 1940, 1940, 1942, 1944, 1949, 1955, 1956, 1959, 1959, 1969, 1970, 1972, 1973, 1974, 1975, 1977, 1977, 1979, 1984, 1990, 1993, 1994, 1996, 1999, 1999, 2000, 2002, 2014, 2015, 2017, 2024, 2032, 2034, 2038, 2041, 2042, 2042, 2044, 2044, 2047, 2050, 2054, 2057, 2057, 2058, 2059, 2064, 2065, 2066, 2069, 2073, 2074, 2078, 2078, 2082, 2086, 2087, 2088, 2088, 2088, 2090, 2099, 2101, 2103, 2103, 2108, 2112, 2117, 2124, 2128, 2130, 2136, 2136, 2137, 2137, 2139, 2142, 2146, 2147, 2149, 2152, 2156, 2159, 2164, 2168, 2168, 2170, 2173, 2175, 2183, 2190, 2193, 2197, 2197, 2206, 2207, 2208, 2209, 2209, 2215, 2219, 2220, 2222, 2233, 2238, 2240, 2240, 2244, 2244, 2246, 2247, 2248, 2250, 2250, 2250, 2258, 2258, 2258, 2258, 2259, 2261, 2266, 2267, 2276, 2276, 2284, 2285, 2287, 2288, 2291, 2291, 2291, 2291, 2292, 2292, 2299, 2300, 2302, 2303, 2303, 2307, 2314, 2316, 2319, 2324, 2329, 2332, 2334, 2336, 2339, 2341, 2347, 2347, 2354, 2354, 2354, 2357, 2360, 2363, 2364, 2365, 2367, 2370, 2370, 2373, 2376, 2379, 2382, 2387, 2389, 2390, 2391, 2395, 2407, 2409, 2414, 2419, 2421, 2429, 2430, 2435, 2437, 2439, 2440, 2448, 2449, 2450, 2451, 2453, 2456, 2459, 2459, 2460, 2460, 2463, 2465, 2467, 2468, 2468, 2469, 2470, 2474, 2476, 2477, 2480, 2480, 2481, 2483, 2484, 2487, 2488, 2488, 2490, 2491, 2491, 2492, 2494, 2496, 2497, 2500, 2502, 2502, 2503, 2506, 2516, 2523, 2525, 2535, 2538, 2549, 2550, 2550, 2554, 2554, 2556, 2568, 2572, 2572, 2576, 2576, 2577, 2578, 2582, 2583, 2585, 2586, 2590, 2593, 2594, 2598, 2598, 2599, 2599, 2599, 2602, 2605, 2608, 2609, 2610, 2619, 2619, 2619, 2624, 2624, 2624, 2627, 2631, 2633, 2636, 2637, 2638, 2638, 2639, 2641, 2641, 2642, 2643, 2655, 2655, 2660, 2662, 2662, 2664, 2665, 2667, 2670, 2670, 2671, 2673, 2673, 2677, 2680, 2691, 2694, 2695, 2698, 2701, 2703, 2705, 2706, 2716, 2716, 2717, 2718, 2723, 2733, 2733, 2733, 2734, 2735, 2745, 2747, 2748, 2755, 2761, 2762, 2765, 2770, 2775, 2776, 2777, 2779, 2781, 2784, 2786, 2786, 2786, 2789, 2794, 2794, 2797, 2800, 2800, 2809, 2810, 2810, 2813, 2819, 2820, 2820, 2823, 2823, 2826, 2827, 2829, 2834, 2835, 2836, 2837, 2839, 2848, 2848, 2849, 2855, 2856, 2858, 2865, 2868, 2871, 2872, 2876, 2882, 2887, 2888, 2894, 2900, 2904, 2904, 2905, 2907, 2911, 2911, 2911, 2917, 2922, 2928, 2932, 2935, 2942, 2945, 2947, 2948, 2952, 2952, 2954, 2956, 2959, 2964, 2965, 2974, 2979, 2983, 2990, 2994, 2994, 2995, 2995, 3000, 3002, 3003, 3009, 3010, 3011, 3012, 3013, 3023, 3031, 3041, 3042, 3042, 3043, 3043, 3046, 3049, 3049, 3050, 3052, 3055, 3058, 3062, 3064, 3064, 3066, 3077, 3078, 3085, 3087, 3092, 3097, 3100, 3100, 3110, 3117, 3117, 3118, 3120, 3123, 3129, 3130, 3131, 3132, 3133, 3134, 3137, 3138, 3143, 3153, 3154, 3155, 3155, 3158, 3158, 3158, 3159, 3162, 3163, 3164, 3166, 3167, 3169, 3170, 3170, 3181, 3192, 3193, 3193, 3195, 3196, 3198, 3208, 3214, 3216, 3216, 3218, 3221, 3223, 3223, 3225, 3225, 3229, 3229, 3233, 3235, 3236, 3238, 3239, 3240, 3243, 3244, 3247, 3252, 3253, 3261, 3262, 3263, 3266, 3266, 3267, 3270, 3283, 3287, 3288, 3289, 3296, 3297, 3299, 3301, 3301, 3304, 3304, 3309, 3312, 3313, 3313, 3318, 3319, 3328, 3330, 3331, 3332, 3333, 3335, 3336, 3340, 3342, 3343, 3345, 3346, 3348, 3350, 3353, 3355, 3357, 3360, 3362, 3368, 3369, 3371, 3374, 3374, 3375, 3382, 3388, 3391, 3394, 3400, 3406, 3413, 3413, 3415, 3416, 3418, 3424, 3428, 3433, 3437, 3438, 3439, 3443, 3443, 3449, 3451, 3453, 3457, 3462, 3465, 3467, 3470, 3471, 3472, 3480, 3482, 3484, 3487, 3487, 3489, 3494, 3495, 3499, 3500, 3502, 3506, 3516, 3518, 3524, 3524, 3527, 3527, 3529, 3532, 3532, 3533, 3536, 3538, 3546, 3555, 3558, 3570, 3570, 3571, 3576, 3578, 3581, 3582, 3582, 3582, 3583, 3588, 3592, 3593, 3594, 3598, 3601, 3603, 3606, 3607, 3608, 3616, 3618, 3620, 3622, 3622, 3624, 3628, 3630, 3631, 3631, 3632, 3632, 3636, 3640, 3650, 3654, 3654, 3659, 3662, 3664, 3671, 3675, 3676, 3677, 3679, 3680, 3682, 3684, 3684, 3688, 3693, 3694, 3694, 3701, 3704, 3705, 3707, 3709, 3720, 3724, 3730, 3738, 3741, 3743, 3747, 3748, 3748, 3749, 3750, 3751, 3751, 3754, 3758, 3763, 3766, 3767, 3772, 3773, 3774, 3781, 3783, 3784, 3785, 3791, 3791, 3793, 3795, 3799, 3799, 3809, 3814, 3816, 3817, 3819, 3821, 3821, 3823, 3828, 3828, 3829, 3829, 3830, 3833, 3838, 3838, 3840, 3841, 3842, 3842, 3843, 3844, 3848, 3853, 3853, 3853, 3856, 3863, 3869, 3870, 3876, 3877, 3881, 3881, 3881, 3882, 3882, 3887, 3889, 3889, 3890, 3891, 3891, 3893, 3895, 3902, 3903, 3906, 3906, 3915, 3915, 3916, 3918, 3919, 3921, 3930, 3931, 3931, 3935, 3936, 3939, 3943, 3946, 3946, 3947, 3950, 3955, 3955, 3957, 3958, 3960, 3962, 3962, 3968, 3970, 3972, 3975, 3976, 3979, 3979, 3983, 3986, 3994, 3996, 3997, 4001, 4009, 4014, 4019, 4019, 4019, 4022, 4023, 4024, 4027, 4028, 4032, 4038, 4042, 4043, 4043, 4044, 4047, 4047, 4047, 4052, 4054, 4055, 4056, 4059, 4062, 4065, 4067, 4067, 4083, 4093, 4095, 4100, 4107, 4110, 4110, 4114, 4116, 4117, 4119, 4121, 4130, 4133, 4136, 4136, 4146, 4146, 4152, 4154, 4155, 4160, 4161, 4161, 4164, 4166, 4169, 4170, 4170, 4170, 4174, 4178, 4180, 4180, 4184, 4185, 4185, 4188, 4191, 4195, 4197, 4197, 4198, 4200, 4201, 4201, 4203, 4204, 4205, 4206, 4206, 4207, 4214, 4219, 4220, 4227, 4228, 4229, 4234, 4239, 4240, 4240, 4243, 4245, 4255, 4264, 4266, 4267, 4270, 4271, 4282, 4282, 4292, 4293, 4305, 4310, 4311, 4315, 4316, 4316, 4318, 4321, 4328, 4329, 4329, 4330, 4339, 4340, 4342, 4347, 4347, 4353, 4356, 4357, 4358, 4360, 4360, 4362, 4367, 4369, 4370, 4378, 4379, 4381, 4383, 4384, 4384, 4386, 4386, 4386, 4387, 4389, 4390, 4390, 4392, 4394, 4394, 4400, 4402, 4403, 4408, 4409, 4414, 4419, 4420, 4425, 4428, 4433, 4435, 4436, 4439, 4439, 4439, 4440, 4446, 4446, 4449, 4449, 4452, 4453, 4455, 4456, 4458, 4458, 4459, 4459, 4461, 4462, 4467, 4475, 4475, 4476, 4481, 4482, 4483, 4485, 4489, 4489, 4501, 4504, 4507, 4509, 4512, 4521, 4522, 4522, 4524, 4531, 4535, 4541, 4542, 4542, 4542, 4543, 4547, 4550, 4554, 4554, 4555, 4556, 4559, 4566, 4569, 4570, 4572, 4572, 4575, 4577, 4578, 4578, 4581, 4585, 4586, 4587, 4591, 4591, 4593, 4594, 4594, 4597, 4597, 4598, 4604, 4607, 4607, 4607, 4609, 4611, 4616, 4617, 4618, 4619, 4619, 4621, 4624, 4632, 4633, 4633, 4636, 4636, 4638, 4640, 4641, 4642, 4644, 4646, 4648, 4651, 4652, 4652, 4654, 4659, 4660, 4666, 4674, 4678, 4678, 4680, 4680, 4681, 4681, 4682, 4682, 4687, 4689, 4697, 4698, 4699, 4701, 4702, 4703, 4707, 4712, 4718, 4721, 4723, 4725, 4727, 4729, 4729, 4731, 4733, 4735, 4735, 4744, 4744, 4746, 4748, 4749, 4755, 4770, 4771, 4772, 4773, 4784, 4784, 4792, 4796, 4796, 4798, 4800, 4802, 4803, 4804, 4806, 4807, 4812, 4814, 4816, 4823, 4831, 4844, 4858, 4861, 4867, 4877, 4882, 4883, 4884, 4884, 4886, 4889, 4896, 4899, 4902, 4913, 4915, 4918, 4919, 4922, 4924, 4925, 4931, 4932, 4934, 4936, 4937, 4937, 4938, 4947, 4952, 4958, 4958, 4959, 4961, 4972, 4973, 4974, 4980, 4982, 4984, 4989, 4992, 4993, 4993, 4994, 5003, 5004, 5005, 5009, 5010, 5028, 5029, 5047, 5050, 5051, 5053, 5055, 5056, 5058, 5064, 5070, 5072, 5074, 5076, 5083, 5085, 5087, 5088, 5091, 5096, 5096, 5098, 5098, 5101, 5101, 5107, 5111, 5112, 5115, 5118, 5119, 5125, 5126, 5127, 5128, 5133, 5134, 5138, 5138, 5140, 5141, 5150, 5150, 5152, 5156, 5157, 5167, 5168, 5170, 5171, 5174, 5174, 5179, 5181, 5185, 5185, 5189, 5191, 5200, 5211, 5211, 5213, 5214, 5215, 5218, 5219, 5220, 5222, 5222, 5223, 5224, 5226, 5227, 5229, 5231, 5231, 5236, 5237, 5239, 5240, 5241, 5249, 5256, 5256, 5257, 5258, 5259, 5263, 5265, 5274, 5275, 5276, 5281, 5285, 5292, 5295, 5295, 5301, 5307, 5307, 5309, 5310, 5314, 5316, 5320, 5329, 5330, 5334, 5335, 5336, 5340, 5344, 5346, 5349, 5353, 5357, 5359, 5362, 5363, 5366, 5366, 5369, 5369, 5370, 5373, 5373, 5375, 5378, 5380, 5389, 5392, 5392, 5394, 5394, 5397, 5399]\n"
     ]
    }
   ],
   "source": [
    "arr = np.random.randint(0, 5400, 2000).tolist()\n",
    "print(arr)\n",
    "new_arr = iterativeMergeSort(arr)\n",
    "print(new_arr)"
   ]
  },
  {
   "cell_type": "code",
   "execution_count": null,
   "metadata": {},
   "outputs": [],
   "source": [
    "class MergeSorter:"
   ]
  }
 ],
 "metadata": {
  "kernelspec": {
   "display_name": "Python 3",
   "language": "python",
   "name": "python3"
  },
  "language_info": {
   "codemirror_mode": {
    "name": "ipython",
    "version": 3
   },
   "file_extension": ".py",
   "mimetype": "text/x-python",
   "name": "python",
   "nbconvert_exporter": "python",
   "pygments_lexer": "ipython3",
   "version": "3.7.6"
  }
 },
 "nbformat": 4,
 "nbformat_minor": 2
}
