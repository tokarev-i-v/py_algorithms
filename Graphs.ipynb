{
 "cells": [
  {
   "cell_type": "code",
   "execution_count": 2,
   "metadata": {},
   "outputs": [],
   "source": [
    "import numpy as np"
   ]
  },
  {
   "cell_type": "markdown",
   "metadata": {},
   "source": [
    "Степенью (degree) $d(v)$ вершины $v$ неориентированного графа $G$ называется количество соседей $v$ или, как говорят, инцидентных $v$ рёбер. Для ориентированных графов различают входящую степень (indegree) $d_{in}(v)$ и исходящую степень (outdegree) $d_{out}(v)$, то есть количество входящих в $v$ и исходящих из $v$ рёбер (соответственно).\n",
    "\n",
    "(a) Докажите, что для неориентированного графа выполнено равенство\n",
    "$\\sum_{u \\in V} d(u)=2|E|$.  \n",
    "Это следует из того, что каждое ребро соединяет ровно 2 вершины.\n",
    "\n",
    "(b) Выведите отсюда, что в неориентированном графе количество вершин нечётной степени чётно.  \n",
    "Чётное число можно получить лишь чётной суммой суммой нечётных чисел, либо любой суммой чётных."
   ]
  },
  {
   "cell_type": "markdown",
   "metadata": {},
   "source": [
    "## DFS"
   ]
  },
  {
   "cell_type": "code",
   "execution_count": 1,
   "metadata": {},
   "outputs": [
    {
     "name": "stdout",
     "output_type": "stream",
     "text": [
      "{'A': True, 'B': True, 'C': True, 'D': True, 'E': True, 'F': True, 'G': False}\n",
      "{'A': 2, 'B': 3, 'C': 1, 'D': 4, 'E': 6, 'F': 7, 'G': 0}\n",
      "{'A': 11, 'B': 10, 'C': 12, 'D': 5, 'E': 9, 'F': 8, 'G': 0}\n"
     ]
    }
   ],
   "source": [
    "import numpy as np\n",
    "#without queue\n",
    "#graph is a dict that contains\n",
    "#vertices as keys and list of vertices\n",
    "graph = {'A': ['B', 'C'],\n",
    "         'B': ['A', 'D', 'E'],\n",
    "         'C': ['A', 'F'],\n",
    "         'D': ['B'],\n",
    "         'E': ['B', 'F'],\n",
    "         'F': ['C', 'E'],\n",
    "         'G': ['G']\n",
    "        }\n",
    "\n",
    "def Previsit(v, pre, clock):\n",
    "    pre[v] = clock['clock']\n",
    "    clock['clock'] += 1\n",
    "    return\n",
    "def Postvisit(v, post, clock):\n",
    "    post[v] = clock['clock']\n",
    "    clock['clock'] += 1\n",
    "    return\n",
    "\n",
    "def Explore(v, visited, graph, pre, post, clock):\n",
    "    visited[v] = True\n",
    "    Previsit(v, pre, clock)\n",
    "    #for every edge (v,u) in graph\n",
    "    for u in graph[v]:\n",
    "        if visited[u] == False:\n",
    "            Explore(u, visited, graph, pre, post, clock)\n",
    "    Postvisit(v, post, clock)\n",
    "\n",
    "def DFS(graph):\n",
    "    visited = { key:False for (key, value) in graph.items()}\n",
    "    pre = { key:0 for (key, value) in graph.items()}\n",
    "    post = { key:0 for (key, value) in graph.items()}\n",
    "    clock = {'clock': 1}\n",
    "    Explore('C', visited, graph, pre, post, clock)\n",
    "#     for v in graph.keys():\n",
    "#         if visited[v] == False:\n",
    "#             Explore(v, visited, graph)\n",
    "    print(visited)\n",
    "    print(pre)\n",
    "    print(post)\n",
    "DFS(graph)"
   ]
  },
  {
   "cell_type": "code",
   "execution_count": 2,
   "metadata": {},
   "outputs": [
    {
     "data": {
      "text/plain": [
       "array([False, False, False, False, False, False, False, False, False,\n",
       "       False])"
      ]
     },
     "execution_count": 2,
     "metadata": {},
     "output_type": "execute_result"
    }
   ],
   "source": [
    "np.zeros(10, dtype=bool)"
   ]
  },
  {
   "cell_type": "markdown",
   "metadata": {},
   "source": [
    "## BFS"
   ]
  },
  {
   "cell_type": "code",
   "execution_count": 5,
   "metadata": {},
   "outputs": [
    {
     "name": "stdout",
     "output_type": "stream",
     "text": [
      "{'A': 0, 'B': 1, 'C': 1, 'D': 2, 'E': 2, 'F': 2, 'G': inf}\n"
     ]
    }
   ],
   "source": [
    "import numpy as np\n",
    "\n",
    "class myqueue:\n",
    "    def __init__(self):\n",
    "        self.items = []\n",
    "    def isEmpty(self):\n",
    "        return self.items == []\n",
    "    def inject(self, item):\n",
    "        self.items.insert(0, item)\n",
    "    def eject(self):\n",
    "        return self.items.pop()\n",
    "    def size(self):\n",
    "        return len(self.items)\n",
    "\n",
    "graph = {'A': ['B', 'C'],\n",
    "         'B': ['A', 'D', 'E'],\n",
    "         'C': ['A', 'F'],\n",
    "         'D': ['B'],\n",
    "         'E': ['B', 'F'],\n",
    "         'F': ['C', 'E'],\n",
    "         'G': ['G']\n",
    "        }\n",
    "def BFS(graph, s):\n",
    "    dist = {key:np.inf for (key, value) in graph.items()}\n",
    "    dist[s] = 0\n",
    "    Q = myqueue()\n",
    "    Q.inject(s)\n",
    "    while not Q.isEmpty():\n",
    "        v = Q.eject()\n",
    "        for u in graph[v]:\n",
    "            if dist[u] == np.inf:\n",
    "                Q.inject(u)\n",
    "                dist[u] = dist[v] + 1\n",
    "    print(dist)\n",
    "BFS(graph, 'A')"
   ]
  },
  {
   "cell_type": "code",
   "execution_count": 6,
   "metadata": {},
   "outputs": [],
   "source": [
    "class BinHeap:\n",
    "    def __init__(self):\n",
    "        self.heapList = [0]\n",
    "        self.currentSize = 0\n",
    "        \n",
    "    def percUp(self, i):\n",
    "        while i // 2 > 0:\n",
    "            if self.heapList[i] < self.heapList[i // 2]:\n",
    "                tmp = self.heapList[i]\n",
    "                self.heapList[i] = self.heapList[i // 2]\n",
    "                self.heapList[i // 2] = tmp\n",
    "            i = i // 2\n",
    "    def insert(self, i):\n",
    "        self.heapList.append(i)\n",
    "        self.currentSize = len(self.heapList) - 1\n",
    "        self.percUp(self.currentSize)\n",
    "        \n",
    "    def percDown(self, i):\n",
    "        while (i*2) <= self.currentSize:\n",
    "            mc = self.minChild(i)\n",
    "            if self.heapList[i] > self.heapList[mc]:\n",
    "                tmp = self.heapList[mc]\n",
    "                self.heapList[mc] = self.heapList[i]\n",
    "                self.heapList[i] = tmp\n",
    "            i = mc\n",
    "            \n",
    "    def minChild(self, i):\n",
    "        if (i*2 + 1) > self.currentSize:\n",
    "            return i*2\n",
    "        else:\n",
    "            if self.heapList[i*2] < self.heapList[i*2+1]:\n",
    "                return i*2\n",
    "            else:\n",
    "                return i*2+1\n",
    "            \n",
    "    def delMin(self):\n",
    "        retval = self.heapList[1]\n",
    "        self.heapList[1] = self.heapList[self.currentSize]\n",
    "        self.currentSize -= 1\n",
    "        self.heapList.pop()\n",
    "        self.percDown(1)\n",
    "        return retval\n",
    "    \n",
    "    def buildHeap(self, alist):\n",
    "        i = len(alist) // 2\n",
    "        self.currentSize = len(alist)\n",
    "        self.heapList = [0] + alist[:]\n",
    "        while (i > 0):\n",
    "            self.percDown(i)\n",
    "            i -= 1\n",
    "        "
   ]
  },
  {
   "cell_type": "code",
   "execution_count": 11,
   "metadata": {},
   "outputs": [],
   "source": [
    "#each element in Heap is arr ['name', priority]\n",
    "class ArrBinHeap:\n",
    "    def __init__(self):\n",
    "        self.heapList = [0]\n",
    "        self.currentSize = 0\n",
    "        \n",
    "    def percUp(self, i):\n",
    "        while i // 2 > 0:\n",
    "            if self.heapList[i][1] < self.heapList[i // 2][1]:\n",
    "                tmp = self.heapList[i]\n",
    "                self.heapList[i] = self.heapList[i // 2]\n",
    "                self.heapList[i // 2] = tmp\n",
    "            i = i // 2\n",
    "    def insert(self, i):\n",
    "        self.heapList.append(i)\n",
    "        self.currentSize = len(self.heapList) - 1\n",
    "        self.percUp(self.currentSize)\n",
    "        \n",
    "    def percDown(self, i):\n",
    "        while (i*2) <= self.currentSize:\n",
    "            mc = self.minChild(i)\n",
    "            if self.heapList[i][1] > self.heapList[mc][1]:\n",
    "                tmp = self.heapList[mc]\n",
    "                self.heapList[mc] = self.heapList[i]\n",
    "                self.heapList[i] = tmp\n",
    "            i = mc\n",
    "    def minChild(self, i):\n",
    "        if (i*2 + 1) > self.currentSize:\n",
    "            return i*2\n",
    "        else:\n",
    "            if self.heapList[i*2][1] < self.heapList[i*2+1][1]:\n",
    "                return i*2\n",
    "            else:\n",
    "                return i*2+1\n",
    "    def delMin(self):\n",
    "        retval = self.heapList[1]\n",
    "        self.heapList[1] = self.heapList[self.currentSize]\n",
    "        self.currentSize -= 1\n",
    "        self.heapList.pop()\n",
    "        self.percDown(1)\n",
    "        return retval\n",
    "    \n",
    "    def modifyOne(self):\n",
    "        return\n",
    "    def buildHeap(self, alist):\n",
    "        i = len(alist) // 2\n",
    "        self.currentSize = len(alist)\n",
    "        self.heapList = [0] + alist[:]\n",
    "        while (i > 0):\n",
    "            self.percDown(i)\n",
    "            i -= 1\n",
    "        "
   ]
  },
  {
   "cell_type": "code",
   "execution_count": 12,
   "metadata": {},
   "outputs": [],
   "source": [
    "#priority queue over Binary heap \n",
    "class myqueue:\n",
    "    def __init__(self):\n",
    "        \n",
    "        return\n",
    "    def insert(self, v):\n",
    "        return\n",
    "    def deleteMin(self):\n",
    "        return\n",
    "    def makeQueue(self):\n",
    "        return"
   ]
  },
  {
   "cell_type": "markdown",
   "metadata": {},
   "source": [
    "## Dijkstra"
   ]
  },
  {
   "cell_type": "code",
   "execution_count": 13,
   "metadata": {},
   "outputs": [],
   "source": [
    "import heapq"
   ]
  },
  {
   "cell_type": "markdown",
   "metadata": {},
   "source": [
    "[Array Dijkstra from e-maxx](https://e-maxx.ru/algo/dijkstra)"
   ]
  },
  {
   "cell_type": "code",
   "execution_count": 14,
   "metadata": {},
   "outputs": [
    {
     "name": "stdout",
     "output_type": "stream",
     "text": [
      "{'A': 1, 'B': 3, 'C': 0, 'D': 4, 'E': 2, 'F': 1, 'G': inf}\n"
     ]
    }
   ],
   "source": [
    "graph = {'A': {'B': 2, 'C': 1},\n",
    "         'B': {'A': 1, 'D': 1, 'E': 1},\n",
    "         'C': {'A': 1, 'F': 1},\n",
    "         'D': {'B': 1},\n",
    "         'E': {'B': 1, 'F': 1},\n",
    "         'F': {'C': 1, 'E': 1},\n",
    "         'G': {'G': 0}\n",
    "        }\n",
    "def DictDijkstra(G, s):\n",
    "    #set init distance to all another vertices as infinity\n",
    "    dist = {key:np.inf for key in G.keys()}\n",
    "    #but for current vertice is 0\n",
    "    dist[s] = 0\n",
    "    #we didn't visit anything yet\n",
    "    visited = {key:False for key in G.keys()}\n",
    "    for i in range(len(G)):\n",
    "        #at first we filter all non-visited verts\n",
    "        non_visited = list(filter(lambda item: item[1] == False, visited.items()))\n",
    "        non_visited = [el[0] for el in non_visited]\n",
    "        v = None\n",
    "        for el in dist.items():\n",
    "            if el[0] in non_visited:\n",
    "                if v == None:\n",
    "                    v = el\n",
    "                else:\n",
    "                    if v[1] > el[1]:\n",
    "                        v = el\n",
    "        #Now we have minimal element\n",
    "        visited[v[0]] = True\n",
    "        #relaxing\n",
    "        dist[v[0]] = v[1]\n",
    "        for to in G[v[0]].items():\n",
    "            dist[to[0]] = min(dist[to[0]], dist[v[0]] + to[1])\n",
    "    print(dist)\n",
    "    \n",
    "DictDijkstra(graph, 'C')"
   ]
  },
  {
   "cell_type": "markdown",
   "metadata": {},
   "source": [
    "## Bellman-Ford"
   ]
  },
  {
   "cell_type": "code",
   "execution_count": 15,
   "metadata": {},
   "outputs": [],
   "source": [
    "graph = {'A': {'B': 2, 'C': 1},\n",
    "         'B': {'A': 1, 'D': 1, 'E': 1},\n",
    "         'C': {'A': 1, 'F': 1},\n",
    "         'D': {'B': 1},\n",
    "         'E': {'B': 1, 'F': 1},\n",
    "         'F': {'C': 1, 'E': 1},\n",
    "         'G': {'G': 0}\n",
    "        }\n",
    "\n",
    "# G = graph, dist = dict of weights that we would update, \n",
    "def update(G, dist, v, u):\n",
    "    dist[v[0]] = min(dist[v[0]], dist[u[0]] + v[1])\n",
    "\n",
    "def ShortestPaths(G, S):\n",
    "    dist = {key: np.inf for key in G.keys()}\n",
    "    dist[s] = 0\n",
    "    visited = {key: False for key in G.keys()}\n",
    "    "
   ]
  },
  {
   "cell_type": "markdown",
   "metadata": {},
   "source": [
    "## Minimum spanning tree (MST)"
   ]
  },
  {
   "cell_type": "code",
   "execution_count": 26,
   "metadata": {},
   "outputs": [],
   "source": [
    "from operator import itemgetter, attrgetter, methodcaller\n",
    "def graph_list_to_one_sorted_by_weights(g):\n",
    "    arr = []\n",
    "    for u, value in g.items():\n",
    "        for v, weight in value.items():\n",
    "            arr.append((weight, u, v))\n",
    "    arr = sorted(arr, key=itemgetter(0))\n",
    "    return arr"
   ]
  },
  {
   "cell_type": "code",
   "execution_count": 27,
   "metadata": {},
   "outputs": [
    {
     "data": {
      "text/plain": [
       "[(0, 'G', 'G'),\n",
       " (1, 'A', 'C'),\n",
       " (1, 'B', 'A'),\n",
       " (1, 'B', 'D'),\n",
       " (1, 'B', 'E'),\n",
       " (1, 'C', 'A'),\n",
       " (1, 'C', 'F'),\n",
       " (1, 'D', 'B'),\n",
       " (1, 'E', 'B'),\n",
       " (1, 'E', 'F'),\n",
       " (1, 'F', 'C'),\n",
       " (1, 'F', 'E'),\n",
       " (2, 'A', 'B')]"
      ]
     },
     "execution_count": 27,
     "metadata": {},
     "output_type": "execute_result"
    }
   ],
   "source": [
    "g = graph_list_to_one_sorted_by_weights(graph)\n",
    "g"
   ]
  },
  {
   "cell_type": "code",
   "execution_count": 2,
   "metadata": {},
   "outputs": [
    {
     "ename": "AttributeError",
     "evalue": "module 'sys' has no attribute 'maxint'",
     "output_type": "error",
     "traceback": [
      "\u001b[1;31m---------------------------------------------------------------------------\u001b[0m",
      "\u001b[1;31mAttributeError\u001b[0m                            Traceback (most recent call last)",
      "\u001b[1;32m<ipython-input-2-2e52015d8fc0>\u001b[0m in \u001b[0;36m<module>\u001b[1;34m\u001b[0m\n\u001b[0;32m     77\u001b[0m             [0, 5, 7, 9, 0]] \n\u001b[0;32m     78\u001b[0m \u001b[1;33m\u001b[0m\u001b[0m\n\u001b[1;32m---> 79\u001b[1;33m \u001b[0mg\u001b[0m\u001b[1;33m.\u001b[0m\u001b[0mprimMST\u001b[0m\u001b[1;33m(\u001b[0m\u001b[1;33m)\u001b[0m\u001b[1;33m;\u001b[0m\u001b[1;33m\u001b[0m\u001b[1;33m\u001b[0m\u001b[0m\n\u001b[0m\u001b[0;32m     80\u001b[0m \u001b[1;33m\u001b[0m\u001b[0m\n\u001b[0;32m     81\u001b[0m \u001b[1;31m# Contributed by Divyanshu Mehta\u001b[0m\u001b[1;33m\u001b[0m\u001b[1;33m\u001b[0m\u001b[1;33m\u001b[0m\u001b[0m\n",
      "\u001b[1;32m<ipython-input-2-2e52015d8fc0>\u001b[0m in \u001b[0;36mprimMST\u001b[1;34m(self)\u001b[0m\n\u001b[0;32m     37\u001b[0m \u001b[1;33m\u001b[0m\u001b[0m\n\u001b[0;32m     38\u001b[0m         \u001b[1;31m# Key values used to pick minimum weight edge in cut\u001b[0m\u001b[1;33m\u001b[0m\u001b[1;33m\u001b[0m\u001b[1;33m\u001b[0m\u001b[0m\n\u001b[1;32m---> 39\u001b[1;33m         \u001b[0mkey\u001b[0m \u001b[1;33m=\u001b[0m \u001b[1;33m[\u001b[0m\u001b[0msys\u001b[0m\u001b[1;33m.\u001b[0m\u001b[0mmaxint\u001b[0m\u001b[1;33m]\u001b[0m \u001b[1;33m*\u001b[0m \u001b[0mself\u001b[0m\u001b[1;33m.\u001b[0m\u001b[0mV\u001b[0m\u001b[1;33m\u001b[0m\u001b[1;33m\u001b[0m\u001b[0m\n\u001b[0m\u001b[0;32m     40\u001b[0m         \u001b[0mparent\u001b[0m \u001b[1;33m=\u001b[0m \u001b[1;33m[\u001b[0m\u001b[1;32mNone\u001b[0m\u001b[1;33m]\u001b[0m \u001b[1;33m*\u001b[0m \u001b[0mself\u001b[0m\u001b[1;33m.\u001b[0m\u001b[0mV\u001b[0m \u001b[1;31m# Array to store constructed MST\u001b[0m\u001b[1;33m\u001b[0m\u001b[1;33m\u001b[0m\u001b[0m\n\u001b[0;32m     41\u001b[0m         \u001b[1;31m# Make key 0 so that this vertex is picked as first vertex\u001b[0m\u001b[1;33m\u001b[0m\u001b[1;33m\u001b[0m\u001b[1;33m\u001b[0m\u001b[0m\n",
      "\u001b[1;31mAttributeError\u001b[0m: module 'sys' has no attribute 'maxint'"
     ]
    }
   ],
   "source": [
    "# A Python program for Prim's Minimum Spanning Tree (MST) algorithm. \n",
    "# The program is for adjacency matrix representation of the graph \n",
    "  \n",
    "import sys # Library for INT_MAX \n",
    "  \n",
    "class Graph(): \n",
    "  \n",
    "    def __init__(self, vertices): \n",
    "        self.V = vertices \n",
    "        self.graph = [[0 for column in range(vertices)]  \n",
    "                    for row in range(vertices)] \n",
    "  \n",
    "    # A utility function to print the constructed MST stored in parent[] \n",
    "    def printMST(self, parent): \n",
    "        print(\"Edge \\tWeight\")\n",
    "        for i in range(1, self.V): \n",
    "            print(parent[i], \"-\", i, \"\\t\", self.graph[i][ parent[i] ]) \n",
    "  \n",
    "    # A utility function to find the vertex with  \n",
    "    # minimum distance value, from the set of vertices  \n",
    "    # not yet included in shortest path tree \n",
    "    def minKey(self, key, mstSet): \n",
    "  \n",
    "        # Initilaize min value \n",
    "        min = sys.maxint \n",
    "  \n",
    "        for v in range(self.V): \n",
    "            if key[v] < min and mstSet[v] == False: \n",
    "                min = key[v] \n",
    "                min_index = v \n",
    "  \n",
    "        return min_index \n",
    "  \n",
    "    # Function to construct and print MST for a graph  \n",
    "    # represented using adjacency matrix representation \n",
    "    def primMST(self): \n",
    "  \n",
    "        # Key values used to pick minimum weight edge in cut \n",
    "        key = [sys.maxint] * self.V \n",
    "        parent = [None] * self.V # Array to store constructed MST \n",
    "        # Make key 0 so that this vertex is picked as first vertex \n",
    "        key[0] = 0 \n",
    "        mstSet = [False] * self.V \n",
    "  \n",
    "        parent[0] = -1 # First node is always the root of \n",
    "  \n",
    "        for cout in range(self.V): \n",
    "  \n",
    "            # Pick the minimum distance vertex from  \n",
    "            # the set of vertices not yet processed.  \n",
    "            # u is always equal to src in first iteration \n",
    "            u = self.minKey(key, mstSet) \n",
    "  \n",
    "            # Put the minimum distance vertex in  \n",
    "            # the shortest path tree \n",
    "            mstSet[u] = True\n",
    "  \n",
    "            # Update dist value of the adjacent vertices  \n",
    "            # of the picked vertex only if the current  \n",
    "            # distance is greater than new distance and \n",
    "            # the vertex in not in the shotest path tree \n",
    "            for v in range(self.V): \n",
    "                # graph[u][v] is non zero only for adjacent vertices of m \n",
    "                # mstSet[v] is false for vertices not yet included in MST \n",
    "                # Update the key only if graph[u][v] is smaller than key[v] \n",
    "                if self.graph[u][v] > 0 and mstSet[v] == False and key[v] > self.graph[u][v]: \n",
    "                        key[v] = self.graph[u][v] \n",
    "                        parent[v] = u \n",
    "  \n",
    "        self.printMST(parent) \n",
    "  \n",
    "g = Graph(5) \n",
    "g.graph = [ [0, 2, 0, 6, 0], \n",
    "            [2, 0, 3, 8, 5], \n",
    "            [0, 3, 0, 0, 7], \n",
    "            [6, 8, 0, 0, 9], \n",
    "            [0, 5, 7, 9, 0]] \n",
    "  \n",
    "g.primMST(); \n",
    "  \n",
    "# Contributed by Divyanshu Mehta "
   ]
  },
  {
   "cell_type": "code",
   "execution_count": null,
   "metadata": {},
   "outputs": [],
   "source": []
  }
 ],
 "metadata": {
  "kernelspec": {
   "display_name": "Python 3",
   "language": "python",
   "name": "python3"
  },
  "language_info": {
   "codemirror_mode": {
    "name": "ipython",
    "version": 3
   },
   "file_extension": ".py",
   "mimetype": "text/x-python",
   "name": "python",
   "nbconvert_exporter": "python",
   "pygments_lexer": "ipython3",
   "version": "3.7.6"
  }
 },
 "nbformat": 4,
 "nbformat_minor": 4
}
