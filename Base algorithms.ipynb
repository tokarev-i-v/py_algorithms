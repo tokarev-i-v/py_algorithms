{
 "cells": [
  {
   "cell_type": "code",
   "execution_count": 1,
   "metadata": {},
   "outputs": [],
   "source": [
    "import pdb"
   ]
  },
  {
   "cell_type": "markdown",
   "metadata": {},
   "source": [
    "## Euler function"
   ]
  },
  {
   "cell_type": "code",
   "execution_count": 13,
   "metadata": {},
   "outputs": [
    {
     "name": "stdout",
     "output_type": "stream",
     "text": [
      "It's ok\n"
     ]
    }
   ],
   "source": [
    "def phi1(n):\n",
    "    result = n\n",
    "    i = 2\n",
    "    while True:\n",
    "        # dividing up to sqrt(n)\n",
    "        if i**2 > n:\n",
    "            break\n",
    "        # if n is integer divide by i\n",
    "        if n % i == 0:\n",
    "            # if i have more then 1 degree in canonical number decomposition n = i^a_i \n",
    "            while ((n % i) == 0):\n",
    "                n = int(n // i)\n",
    "            result = result - int(result / i)\n",
    "        i +=1  \n",
    "    if n > 1:\n",
    "        result -= int(result / n)\n",
    "    return result\n",
    "\n",
    "def phi2(n):\n",
    "    result = n\n",
    "    i = 2\n",
    "    while True:\n",
    "        if i**2 > n:\n",
    "            break\n",
    "        if n % i == 0:\n",
    "            while ((n % i) == 0):\n",
    "                n = int(n // i)\n",
    "            result = result - int(result//i)\n",
    "        i += 1\n",
    "    if n > 1:\n",
    "        result = result - int(result//n)\n",
    "    return result\n",
    "\n",
    "assert phi1(3) == 2, \"Must be equal!\"\n",
    "assert phi1(100) == 40, \"Must be equal\"\n",
    "assert phi1(154654) == 75816, \"Must be equal\"\n",
    "\n",
    "print(\"It's ok\")"
   ]
  },
  {
   "cell_type": "markdown",
   "metadata": {},
   "source": [
    "## Binary pow\n",
    "[Binary pow](http://e-maxx.ru/algo/binary_pow)"
   ]
  },
  {
   "cell_type": "code",
   "execution_count": 8,
   "metadata": {},
   "outputs": [
    {
     "name": "stdout",
     "output_type": "stream",
     "text": [
      "it's ok!\n"
     ]
    }
   ],
   "source": [
    "def binpow(a, n):\n",
    "    if n == 0:\n",
    "        return 1\n",
    "    if n % 2 == 1:\n",
    "        return binpow(a, n-1) * a\n",
    "    else:\n",
    "        b = binpow(a, int(n//2))\n",
    "        return b*b\n",
    "\n",
    "\n",
    "def iterative_binpow(a, n):\n",
    "    res = 1\n",
    "    while n:\n",
    "        if n & 1:\n",
    "            res *= a\n",
    "        a *= a\n",
    "        n = n >> 1\n",
    "    return res\n",
    "\n",
    "a, p = 6, 10\n",
    "powered = a**p\n",
    "\n",
    "assert binpow(a,p) == powered, \"Must be equal!\"\n",
    "assert iterative_binpow(a,p) == powered, \"Must be equal!\"\n",
    "\n",
    "print(\"it's ok!\")"
   ]
  },
  {
   "cell_type": "code",
   "execution_count": 12,
   "metadata": {},
   "outputs": [
    {
     "data": {
      "text/plain": [
       "10000000000"
      ]
     },
     "execution_count": 12,
     "metadata": {},
     "output_type": "execute_result"
    }
   ],
   "source": [
    "def iterative_binpow(a, n):\n",
    "    res = 1\n",
    "    while n:\n",
    "        if n & 1:\n",
    "            res *= a\n",
    "        a *= a\n",
    "        n = n >> 1\n",
    "    return res\n",
    "iterative_binpow(10, 10)"
   ]
  },
  {
   "cell_type": "markdown",
   "metadata": {},
   "source": [
    "## GCD\n",
    "[GCD](http://e-maxx.ru/algo/euclid_algorithm)"
   ]
  },
  {
   "cell_type": "code",
   "execution_count": 26,
   "metadata": {},
   "outputs": [
    {
     "name": "stdout",
     "output_type": "stream",
     "text": [
      "It's ok!\n"
     ]
    }
   ],
   "source": [
    "def gcd_recursive(a, b):\n",
    "    if b == 0:\n",
    "        return a\n",
    "    else:\n",
    "        return gcd_recursive(b, a % b)\n",
    "\n",
    "def gcd_recursive_ternar(a, b):\n",
    "    return gcd_recursive_ternar(b, a % b) if b else a\n",
    "\n",
    "def gcd_iterative(a, b):\n",
    "    while b:\n",
    "        a %= b\n",
    "        a,b = a+b - a, a+b-b\n",
    "    return a\n",
    "gcd = gcd_iterative\n",
    "\n",
    "a, b = 180, 116\n",
    "answer = 4\n",
    "assert gcd_recursive(a, b) == answer, \"Must be equal!\"\n",
    "assert gcd_recursive_ternar(a, b) == answer, \"Must be equal!\"\n",
    "assert gcd_iterative(a, b) == answer, \"Must be equal!\"\n",
    "print(\"It's ok!\")"
   ]
  },
  {
   "cell_type": "markdown",
   "metadata": {},
   "source": [
    "## LCM\n",
    "[LCM](http://e-maxx.ru/algo/euclid_algorithm)"
   ]
  },
  {
   "cell_type": "code",
   "execution_count": 28,
   "metadata": {},
   "outputs": [
    {
     "name": "stdout",
     "output_type": "stream",
     "text": [
      "It's ok\n"
     ]
    }
   ],
   "source": [
    "def lcm(a, b):\n",
    "    return int(a / gcd(a, b) * b)\n",
    "\n",
    "a, b = 128, 12\n",
    "answer = 384\n",
    "assert lcm(a, b) == answer, \"Must be equal!\"\n",
    "print(\"It's ok\")"
   ]
  },
  {
   "cell_type": "markdown",
   "metadata": {},
   "source": [
    "## Eratosfen for N\n",
    "[Eratosfen for N](http://e-maxx.ru/algo/prime_sieve_linear)"
   ]
  },
  {
   "cell_type": "code",
   "execution_count": 32,
   "metadata": {},
   "outputs": [
    {
     "name": "stdout",
     "output_type": "stream",
     "text": [
      "([0, 0, 2, 3, 2, 5, 2, 7, 2, 3, 2], [2, 3, 5, 7])\n"
     ]
    }
   ],
   "source": [
    "def eratosfen_n(N):\n",
    "    lp = [0]*(N+1)\n",
    "    pr = []\n",
    "    for i in range(2, N+1):\n",
    "        if lp[i] == 0:\n",
    "            lp[i] = i\n",
    "            pr.append(i)\n",
    "        j = 0\n",
    "        while (j < len(pr)) and (pr[j] <= lp[i]) and (i*pr[j] <= N):\n",
    "            lp[i * pr[j]] = pr[j]\n",
    "            j += 1\n",
    "    return (lp,pr)\n",
    "print(eratosfen_n(10))            "
   ]
  },
  {
   "cell_type": "code",
   "execution_count": null,
   "metadata": {},
   "outputs": [],
   "source": []
  },
  {
   "cell_type": "code",
   "execution_count": null,
   "metadata": {},
   "outputs": [],
   "source": []
  },
  {
   "cell_type": "code",
   "execution_count": null,
   "metadata": {},
   "outputs": [],
   "source": []
  },
  {
   "cell_type": "code",
   "execution_count": null,
   "metadata": {},
   "outputs": [],
   "source": []
  },
  {
   "cell_type": "code",
   "execution_count": null,
   "metadata": {},
   "outputs": [],
   "source": []
  },
  {
   "cell_type": "code",
   "execution_count": null,
   "metadata": {},
   "outputs": [],
   "source": []
  }
 ],
 "metadata": {
  "kernelspec": {
   "display_name": "Python 3",
   "language": "python",
   "name": "python3"
  },
  "language_info": {
   "codemirror_mode": {
    "name": "ipython",
    "version": 3
   },
   "file_extension": ".py",
   "mimetype": "text/x-python",
   "name": "python",
   "nbconvert_exporter": "python",
   "pygments_lexer": "ipython3",
   "version": "3.7.6"
  }
 },
 "nbformat": 4,
 "nbformat_minor": 4
}
