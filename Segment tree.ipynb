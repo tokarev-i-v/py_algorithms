{
 "cells": [
  {
   "cell_type": "code",
   "execution_count": 1,
   "metadata": {},
   "outputs": [
    {
     "name": "stdout",
     "output_type": "stream",
     "text": [
      "5\n",
      "3\n"
     ]
    }
   ],
   "source": [
    "# Python3 Code Addition\n",
    " \n",
    "# limit for array size\n",
    "N = 100000;\n",
    " \n",
    "# Max size of tree\n",
    "tree = [0] * (2 * N);\n",
    " \n",
    "# function to build the tree\n",
    "def build(arr) :\n",
    " \n",
    "    # insert leaf nodes in tree\n",
    "    for i in range(n) :\n",
    "        tree[n + i] = arr[i];\n",
    "     \n",
    "    # build the tree by calculating parents\n",
    "    for i in range(n - 1, 0, -1) :\n",
    "        tree[i] = tree[i << 1] + tree[i << 1 | 1];\n",
    " \n",
    "# function to update a tree node\n",
    "def updateTreeNode(p, value) :\n",
    "     \n",
    "    # set value at position p\n",
    "    tree[p + n] = value;\n",
    "    p = p + n;\n",
    "     \n",
    "    # move upward and update parents\n",
    "    i = p;\n",
    "     \n",
    "    while i > 1 :\n",
    "         \n",
    "        tree[i >> 1] = tree[i] + tree[i ^ 1];\n",
    "        i >>= 1;\n",
    " \n",
    "# function to get sum on interval [l, r)\n",
    "def query(l, r) :\n",
    " \n",
    "    res = 0;\n",
    "     \n",
    "    # loop to find the sum in the range\n",
    "    l += n;\n",
    "    r += n;\n",
    "     \n",
    "    while l < r :\n",
    "     \n",
    "        if (l & 1) :\n",
    "            res += tree[l];\n",
    "            l += 1\n",
    "     \n",
    "        if (r & 1) :\n",
    "            r -= 1;\n",
    "            res += tree[r];\n",
    "             \n",
    "        l >>= 1;\n",
    "        r >>= 1\n",
    "     \n",
    "    return res;\n",
    " \n",
    "# Driver Code\n",
    "if __name__ == \"__main__\" :\n",
    " \n",
    "    a = [1, 2, 3, 4, 5, 6, 7, 8, 9, 10, 11, 12];\n",
    " \n",
    "    # n is global\n",
    "    n = len(a);\n",
    "     \n",
    "    # build tree\n",
    "    build(a);\n",
    "     \n",
    "    # print the sum in range(1,2) index-based\n",
    "    print(query(1, 3));\n",
    "     \n",
    "    # modify element at 2nd index\n",
    "    updateTreeNode(2, 1);\n",
    "     \n",
    "    # print the sum in range(1,2) index-based\n",
    "    print(query(1, 3));\n",
    "     \n",
    "# This code is contributed by AnkitRai01"
   ]
  },
  {
   "cell_type": "code",
   "execution_count": null,
   "metadata": {},
   "outputs": [],
   "source": []
  }
 ],
 "metadata": {
  "kernelspec": {
   "display_name": "Python 3",
   "language": "python",
   "name": "python3"
  },
  "language_info": {
   "codemirror_mode": {
    "name": "ipython",
    "version": 3
   },
   "file_extension": ".py",
   "mimetype": "text/x-python",
   "name": "python",
   "nbconvert_exporter": "python",
   "pygments_lexer": "ipython3",
   "version": "3.7.6"
  }
 },
 "nbformat": 4,
 "nbformat_minor": 4
}
